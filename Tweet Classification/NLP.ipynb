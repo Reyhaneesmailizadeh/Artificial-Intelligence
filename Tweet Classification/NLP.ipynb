{
  "cells": [
    {
      "cell_type": "markdown",
      "id": "eY99YE-VG1C9",
      "metadata": {
        "id": "eY99YE-VG1C9"
      },
      "source": [
        "# Setup environment"
      ]
    },
    {
      "cell_type": "code",
      "execution_count": 1,
      "id": "fec65989e04597f0",
      "metadata": {
        "colab": {
          "base_uri": "https://localhost:8080/"
        },
        "id": "fec65989e04597f0",
        "outputId": "163f0a8a-1380-4677-eef3-622e1965c4d6"
      },
      "outputs": [
        {
          "output_type": "stream",
          "name": "stdout",
          "text": [
            "\u001b[2K     \u001b[90m━━━━━━━━━━━━━━━━━━━━━━━━━━━━━━━━━━━━━━━━\u001b[0m \u001b[32m431.4/431.4 kB\u001b[0m \u001b[31m2.5 MB/s\u001b[0m eta \u001b[36m0:00:00\u001b[0m\n",
            "\u001b[2K     \u001b[90m━━━━━━━━━━━━━━━━━━━━━━━━━━━━━━━━━━━━━━━━\u001b[0m \u001b[32m21.3/21.3 MB\u001b[0m \u001b[31m28.7 MB/s\u001b[0m eta \u001b[36m0:00:00\u001b[0m\n",
            "\u001b[?25h"
          ]
        }
      ],
      "source": [
        "!pip install gensim emoji nltk tqdm seaborn torch torchsummary -q"
      ]
    },
    {
      "cell_type": "code",
      "execution_count": 2,
      "id": "kY06D1XwmBmw",
      "metadata": {
        "colab": {
          "base_uri": "https://localhost:8080/"
        },
        "id": "kY06D1XwmBmw",
        "outputId": "175bb3e0-f63d-4911-d24d-7f2663058b76"
      },
      "outputs": [
        {
          "output_type": "stream",
          "name": "stdout",
          "text": [
            "Requirement already satisfied: torch in /usr/local/lib/python3.10/dist-packages (2.3.0+cu121)\n",
            "Requirement already satisfied: filelock in /usr/local/lib/python3.10/dist-packages (from torch) (3.14.0)\n",
            "Requirement already satisfied: typing-extensions>=4.8.0 in /usr/local/lib/python3.10/dist-packages (from torch) (4.11.0)\n",
            "Requirement already satisfied: sympy in /usr/local/lib/python3.10/dist-packages (from torch) (1.12)\n",
            "Requirement already satisfied: networkx in /usr/local/lib/python3.10/dist-packages (from torch) (3.3)\n",
            "Requirement already satisfied: jinja2 in /usr/local/lib/python3.10/dist-packages (from torch) (3.1.4)\n",
            "Requirement already satisfied: fsspec in /usr/local/lib/python3.10/dist-packages (from torch) (2023.6.0)\n",
            "Requirement already satisfied: nvidia-cuda-nvrtc-cu12==12.1.105 in /usr/local/lib/python3.10/dist-packages (from torch) (12.1.105)\n",
            "Requirement already satisfied: nvidia-cuda-runtime-cu12==12.1.105 in /usr/local/lib/python3.10/dist-packages (from torch) (12.1.105)\n",
            "Requirement already satisfied: nvidia-cuda-cupti-cu12==12.1.105 in /usr/local/lib/python3.10/dist-packages (from torch) (12.1.105)\n",
            "Requirement already satisfied: nvidia-cudnn-cu12==8.9.2.26 in /usr/local/lib/python3.10/dist-packages (from torch) (8.9.2.26)\n",
            "Requirement already satisfied: nvidia-cublas-cu12==12.1.3.1 in /usr/local/lib/python3.10/dist-packages (from torch) (12.1.3.1)\n",
            "Requirement already satisfied: nvidia-cufft-cu12==11.0.2.54 in /usr/local/lib/python3.10/dist-packages (from torch) (11.0.2.54)\n",
            "Requirement already satisfied: nvidia-curand-cu12==10.3.2.106 in /usr/local/lib/python3.10/dist-packages (from torch) (10.3.2.106)\n",
            "Requirement already satisfied: nvidia-cusolver-cu12==11.4.5.107 in /usr/local/lib/python3.10/dist-packages (from torch) (11.4.5.107)\n",
            "Requirement already satisfied: nvidia-cusparse-cu12==12.1.0.106 in /usr/local/lib/python3.10/dist-packages (from torch) (12.1.0.106)\n",
            "Requirement already satisfied: nvidia-nccl-cu12==2.20.5 in /usr/local/lib/python3.10/dist-packages (from torch) (2.20.5)\n",
            "Requirement already satisfied: nvidia-nvtx-cu12==12.1.105 in /usr/local/lib/python3.10/dist-packages (from torch) (12.1.105)\n",
            "Requirement already satisfied: triton==2.3.0 in /usr/local/lib/python3.10/dist-packages (from torch) (2.3.0)\n",
            "Requirement already satisfied: nvidia-nvjitlink-cu12 in /usr/local/lib/python3.10/dist-packages (from nvidia-cusolver-cu12==11.4.5.107->torch) (12.5.40)\n",
            "Requirement already satisfied: MarkupSafe>=2.0 in /usr/local/lib/python3.10/dist-packages (from jinja2->torch) (2.1.5)\n",
            "Requirement already satisfied: mpmath>=0.19 in /usr/local/lib/python3.10/dist-packages (from sympy->torch) (1.3.0)\n"
          ]
        }
      ],
      "source": [
        "!pip install torch"
      ]
    },
    {
      "cell_type": "code",
      "execution_count": 3,
      "id": "initial_id",
      "metadata": {
        "collapsed": true,
        "id": "initial_id"
      },
      "outputs": [],
      "source": [
        "import pandas as pd\n",
        "import torch\n",
        "from torch import nn\n",
        "from torch.utils.data import DataLoader, Dataset\n",
        "\n",
        "import gensim\n",
        "\n",
        "from sklearn.model_selection import train_test_split\n",
        "import sklearn.metrics as metrics\n",
        "\n",
        "import matplotlib.pyplot as plt\n",
        "import seaborn as sns\n",
        "import numpy as np\n",
        "from tqdm import tqdm\n",
        "import gc\n",
        "import os\n",
        "\n",
        "import ssl\n",
        "ssl._create_default_https_context = ssl._create_unverified_context"
      ]
    },
    {
      "cell_type": "markdown",
      "id": "cf946d026ed2d98e",
      "metadata": {
        "collapsed": false,
        "id": "cf946d026ed2d98e"
      },
      "source": [
        "# Config"
      ]
    },
    {
      "cell_type": "markdown",
      "id": "3e83a8b72b644c2",
      "metadata": {
        "collapsed": false,
        "id": "3e83a8b72b644c2"
      },
      "source": [
        "## Model training config"
      ]
    },
    {
      "cell_type": "code",
      "execution_count": 4,
      "id": "2d0826c5b8eb52c9",
      "metadata": {
        "id": "2d0826c5b8eb52c9"
      },
      "outputs": [],
      "source": [
        "LEARNING_RATE = 4e-4\n",
        "WEIGHT_DECAY = 1e-2\n",
        "BATCH_SIZE = 64\n",
        "EPOCHS = 15\n",
        "\n",
        "SEQUENCE_LEN = 64\n",
        "CNN_FILTERS = 64"
      ]
    },
    {
      "cell_type": "code",
      "execution_count": 5,
      "id": "b1f939dd5898a0b6",
      "metadata": {
        "id": "b1f939dd5898a0b6"
      },
      "outputs": [],
      "source": [
        "DEVICE = torch.device(\"cuda\" if torch.cuda.is_available() else \"cpu\")"
      ]
    },
    {
      "cell_type": "markdown",
      "id": "27110752c038c1d0",
      "metadata": {
        "collapsed": false,
        "id": "27110752c038c1d0"
      },
      "source": [
        "# Data Preparation, section 0"
      ]
    },
    {
      "cell_type": "markdown",
      "source": [
        "<font color='red'>1.</font>\n",
        "Consistency: Lowercasing text ensures consistency in the dataset, making it easier to manage and process. This is particularly beneficial when dealing with large datasets where manual correction of inconsistent capitalizations would be impractical 2.\n",
        "\n",
        "Simplification: It simplifies the text by eliminating the distinction between uppercase and lowercase letters, which can be helpful in reducing noise and focusing on the semantic content of the text 2.\n",
        "\n",
        "Loss of Meaning: In some contexts, capitalization can carry significant meaning. For example, proper nouns and acronyms lose their identity when converted to lowercase. This can lead to inaccuracies in tasks where preserving the original meaning is crucial 4.\n",
        "\n",
        "Overly Simplistic Approach: While lowercasing is a straightforward approach, it might not be suitable for all NLP tasks. More nuanced approaches, such as preserving capitalization in certain contexts or using lemmatization/stemming techniques, might offer better results in specific scenarios\n",
        "\n",
        "Text preprocessing, including lowercasing, is essential for preparing textual data for analysis and modeling in NLP. Unstructured or unusually formatted text can introduce noise and ambiguity, complicating the training of machine learning models.\n"
      ],
      "metadata": {
        "id": "iHbshLj76aqD"
      },
      "id": "iHbshLj76aqD"
    },
    {
      "cell_type": "markdown",
      "source": [
        "<font color='red'>2.</font>\n",
        "Reducing Noise: Sometimes, numbers in text do not carry meaningful information relevant to the task at hand. Removing them can help reduce noise and focus on the textual content 23.\n",
        "\n",
        "Standardization: Uniformity in text data is crucial for effective processing. Removing numbers can standardize the text, making it easier to tokenize and analyze\n",
        "\n",
        "Impact on Specific Tasks: For tasks like Named Entity Recognition (NER) or Part of Speech (POS) tagging, numbers play a significant role. Removing numbers might negatively impact the performance of models trained for these tasks 2.\n",
        "\n",
        "Generalization Limitations: Some algorithms and models might benefit from the inclusion of numbers in the text, especially those that leverage statistical properties of the data. Completely removing numbers could limit the effectiveness of these models 3."
      ],
      "metadata": {
        "id": "HKz_3n6z8PL0"
      },
      "id": "HKz_3n6z8PL0"
    },
    {
      "cell_type": "markdown",
      "source": [
        "<font color='red'>3.</font>\n",
        "Contextual Significance: Hashtags can carry significant contextual information, especially in social media data. They can indicate topics, trends, or categories that the text belongs to. Keeping hashtags can enrich the model's understanding of the text's context 2.\n",
        "\n",
        "Feature Extraction: Hashtags can serve as unique identifiers or markers for specific themes or events. Including hashtags in the preprocessing pipeline can allow models to recognize and utilize these thematic markers, potentially enhancing the model's performance on tasks that benefit from such contextual cues 2."
      ],
      "metadata": {
        "id": "0Qy4Nidq8kDe"
      },
      "id": "0Qy4Nidq8kDe"
    },
    {
      "cell_type": "markdown",
      "id": "32b050729991fec9",
      "metadata": {
        "collapsed": false,
        "id": "32b050729991fec9"
      },
      "source": [
        "## Load Data"
      ]
    },
    {
      "cell_type": "code",
      "execution_count": 6,
      "id": "88e92f34d72c6f62",
      "metadata": {
        "colab": {
          "base_uri": "https://localhost:8080/"
        },
        "id": "88e92f34d72c6f62",
        "outputId": "65f60ac2-51c5-4f1e-c707-89f046112c38"
      },
      "outputs": [
        {
          "output_type": "stream",
          "name": "stdout",
          "text": [
            "Mounted at /content/drive\n"
          ]
        }
      ],
      "source": [
        "from google.colab import drive\n",
        "drive.mount('/content/drive')"
      ]
    },
    {
      "cell_type": "code",
      "execution_count": 7,
      "id": "nYcu9ZFbkgi5",
      "metadata": {
        "id": "nYcu9ZFbkgi5"
      },
      "outputs": [],
      "source": [
        "import pandas as pd\n",
        "\n",
        "file_path = '/content/drive/My Drive/twitter-suicidal-data.csv'\n",
        "df = pd.read_csv(file_path)"
      ]
    },
    {
      "cell_type": "markdown",
      "id": "57f7552c58ea498e",
      "metadata": {
        "collapsed": false,
        "id": "57f7552c58ea498e"
      },
      "source": [
        "## Data Preprocessing"
      ]
    },
    {
      "cell_type": "code",
      "execution_count": 8,
      "id": "f16efd0184e90f40",
      "metadata": {
        "colab": {
          "base_uri": "https://localhost:8080/"
        },
        "id": "f16efd0184e90f40",
        "outputId": "75c4e054-d94f-4a3e-f623-f5c88ec1bfa9"
      },
      "outputs": [
        {
          "output_type": "stream",
          "name": "stderr",
          "text": [
            "[nltk_data] Downloading package stopwords to /root/nltk_data...\n",
            "[nltk_data]   Unzipping corpora/stopwords.zip.\n",
            "[nltk_data] Downloading package punkt to /root/nltk_data...\n",
            "[nltk_data]   Unzipping tokenizers/punkt.zip.\n",
            "[nltk_data] Downloading package wordnet to /root/nltk_data...\n",
            "[nltk_data] Downloading package averaged_perceptron_tagger to\n",
            "[nltk_data]     /root/nltk_data...\n",
            "[nltk_data]   Unzipping taggers/averaged_perceptron_tagger.zip.\n"
          ]
        },
        {
          "output_type": "execute_result",
          "data": {
            "text/plain": [
              "True"
            ]
          },
          "metadata": {},
          "execution_count": 8
        }
      ],
      "source": [
        "import nltk\n",
        "import emoji\n",
        "import re\n",
        "\n",
        "nltk.download([\"stopwords\", \"punkt\", \"wordnet\", \"averaged_perceptron_tagger\"])"
      ]
    },
    {
      "cell_type": "code",
      "execution_count": 9,
      "id": "dbe50f445aa09ecc",
      "metadata": {
        "id": "dbe50f445aa09ecc"
      },
      "outputs": [],
      "source": [
        "def convert_emoji_to_text(text):\n",
        "    # removing wierd patterns\n",
        "    wierd_pattern = re.compile(\"[\"\n",
        "        u\"\\U0001F600-\\U0001F64F\"  # emoticons\n",
        "        u\"\\U0001F300-\\U0001F5FF\"  # symbols & pictographs\n",
        "        u\"\\U0001F680-\\U0001F6FF\"  # transport & map symbols\n",
        "        u\"\\U0001F1E0-\\U0001F1FF\"  # flags (iOS)\n",
        "        u\"\\U00002702-\\U000027B0\"\n",
        "        u\"\\U000024C2-\\U0001F251\"\n",
        "        u\"\\U0001f926-\\U0001f937\"\n",
        "        u'\\U00010000-\\U0010ffff'\n",
        "        u\"\\u200d\"\n",
        "        u\"\\u2640-\\u2642\"\n",
        "        u\"\\u2600-\\u2B55\"\n",
        "        u\"\\u23cf\"\n",
        "        u\"\\u23e9\"\n",
        "        u\"\\u231a\"\n",
        "        u\"\\u3030\"\n",
        "        u\"\\ufe0f\"\n",
        "        u\"\\u2069\"\n",
        "        u\"\\u2066\"\n",
        "        u\"\\u2068\"\n",
        "        u\"\\u2067\"\n",
        "        \"]+\", flags=re.UNICODE)\n",
        "\n",
        "    text = wierd_pattern.sub(r' ', text)\n",
        "    return text\n",
        "\n",
        "stopwords = nltk.corpus.stopwords.words(\"english\")\n",
        "lemmatizer = nltk.stem.WordNetLemmatizer()\n",
        "\n",
        "def nltk_pos_tagger(nltk_tag):\n",
        "    if nltk_tag.startswith('J'):\n",
        "        return 'a'\n",
        "    elif nltk_tag.startswith('V'):\n",
        "        return 'v'\n",
        "    elif nltk_tag.startswith('N'):\n",
        "        return 'n'\n",
        "    elif nltk_tag.startswith('R'):\n",
        "        return 'r'\n",
        "    else:\n",
        "        return 'n'\n",
        "\n",
        "def preprocess_data(text: str):\n",
        "    \"\"\"\n",
        "    Preprocessing steps are as follows:\n",
        "    1. lowercase the text\n",
        "    2. remove punctuation\n",
        "    3. remove numbers\n",
        "    4. remove urls\n",
        "    5. remove usernames\n",
        "    6. remove extra spaces\n",
        "    7. convert emojis to text\n",
        "    8. remove non-word characters\n",
        "    9. lemmatization and tokenization of the text\n",
        "    10. remove stopwords\n",
        "    :param text: str\n",
        "    :return: tokens: list[str]\n",
        "    \"\"\"\n",
        "\n",
        "    # lowercase the text\n",
        "    text = text.lower()\n",
        "\n",
        "    # remove punctuation\n",
        "    text = re.sub(r'[^\\w\\s]', '', text)\n",
        "\n",
        "    # remove numbers\n",
        "    text = re.sub(r'\\d+', '', text)\n",
        "\n",
        "    # remove urls\n",
        "    text = re.sub(r'http\\S+|www\\S+|https\\S+', '', text, flags=re.MULTILINE)\n",
        "\n",
        "    # remove usernames\n",
        "    text = re.sub(r'@\\w+', '', text)\n",
        "\n",
        "    # remove extra spaces\n",
        "    text = re.sub(r'\\s+', ' ', text).strip()\n",
        "\n",
        "    # convert emojis to text\n",
        "    text = convert_emoji_to_text(text)\n",
        "\n",
        "    # remove non-word characters\n",
        "    text = re.sub(r'\\W+', ' ', text)\n",
        "\n",
        "    # tokenization\n",
        "    tokens = nltk.word_tokenize(text)\n",
        "\n",
        "    # lemmatization\n",
        "    tokens = [lemmatizer.lemmatize(token, nltk_pos_tagger(tag)) for token, tag in nltk.pos_tag(tokens)]\n",
        "\n",
        "    # remove stopwords\n",
        "    tokens = [token for token in tokens if token not in stopwords]\n",
        "\n",
        "    return tokens\n"
      ]
    },
    {
      "cell_type": "markdown",
      "source": [
        "<font color='red'>4.</font>"
      ],
      "metadata": {
        "id": "iV37mUcz9D04"
      },
      "id": "iV37mUcz9D04"
    },
    {
      "cell_type": "code",
      "execution_count": 10,
      "id": "11ac7d394e03d9f",
      "metadata": {
        "colab": {
          "base_uri": "https://localhost:8080/"
        },
        "id": "11ac7d394e03d9f",
        "outputId": "b235e6ef-f023-44db-c2eb-5d7111959727"
      },
      "outputs": [
        {
          "output_type": "stream",
          "name": "stdout",
          "text": [
            "Samples before preprocessing:\n",
            "Sample 1: my life is meaningless i just want to end my life so badly my life is completely empty and i dont want to have to create meaning in it creating meaning is pain how long will i hold back the urge to run my car head first into the next person coming the opposite way when will i stop feeling jealous of tragic characters like gomer pile for the swift end they were able to bring to their lives\n",
            "Sample 2: muttering i wanna die to myself daily for a few months now i feel worthless shes my soulmate i cant live in this horrible world without her i am so lonely i wish i could just turn off the part of my brain that feels \n",
            "Sample 3: work slave i really feel like my only purpose in life is to make a higher man money parents forcing me through college and i have too much on my plate i owe a lot of money i know this is the easy way out but i am really tired all of these issues are on top of dealing with tensions in america as well i want to rest\n",
            "Sample 4: i did something on the 2 of october i overdosed i just felt so alone and horrible i was in hospital for two days now when i walk down the hallways of my school they always look at me weird and say i should take more pills and i hate it i have no one i have this voice in my head now and it wont go away and i cant be myself anymore thanks for reading\n",
            "Sample 5: i feel like no one cares i just want to die maybe then i d feel less lonely\n",
            "\n",
            "Samples after preprocessing:\n",
            "Sample 1: life meaningless want end life badly life completely empty dont want create meaning create meaning pain long hold back urge run car head first next person come opposite way stop feel jealous tragic character like gomer pile swift end able bring life\n",
            "Sample 2: mutter wan na die daily month feel worthless shes soulmate cant live horrible world without lonely wish could turn part brain feel\n",
            "Sample 3: work slave really feel like purpose life make high man money parent force college much plate owe lot money know easy way really tired issue top deal tension america well want rest\n",
            "Sample 4: something october overdose felt alone horrible hospital two day walk hallway school always look weird say take pill hate one voice head wont go away cant anymore thanks read\n",
            "Sample 5: feel like one care want die maybe feel less lonely\n"
          ]
        }
      ],
      "source": [
        "# Select a subset of the data for demonstration\n",
        "sample_texts = df['tweet'].head(5)  # Assuming the text column is named 'text'\n",
        "\n",
        "# Show samples before preprocessing\n",
        "print(\"Samples before preprocessing:\")\n",
        "for i, text in enumerate(sample_texts):\n",
        "    print(f\"Sample {i+1}: {text}\")\n",
        "\n",
        "# Apply preprocessing\n",
        "preprocessed_texts = sample_texts.apply(lambda x: preprocess_data(str(x)))\n",
        "\n",
        "# Show samples after preprocessing\n",
        "print(\"\\nSamples after preprocessing:\")\n",
        "for i, tokens in enumerate(preprocessed_texts):\n",
        "    print(f\"Sample {i+1}: {' '.join(tokens)}\")\n"
      ]
    },
    {
      "cell_type": "markdown",
      "source": [
        "<font color='red'>5.</font>"
      ],
      "metadata": {
        "id": "Wh9T5EXd-LKc"
      },
      "id": "Wh9T5EXd-LKc"
    },
    {
      "cell_type": "code",
      "source": [
        "## Apply preprocessing\n",
        "df['preprocessed_tweet'] = df['tweet'].apply(lambda x: preprocess_data(str(x)))\n",
        "\n",
        "# Calculate token sizes\n",
        "df['token_size'] = df['preprocessed_tweet'].apply(len)\n",
        "\n",
        "# Group by 'intention' and calculate min, max, and average token sizes\n",
        "stats = df.groupby('intention')['token_size'].agg(['min', 'max', 'mean']).reset_index()\n",
        "\n",
        "# Display the stats\n",
        "print(stats)\n",
        "\n",
        "# Plot the distribution using a box plot for visualization\n",
        "plt.figure(figsize=(12, 6))\n",
        "sns.boxplot(x='intention', y='token_size', data=df)\n",
        "plt.title('Distribution of Tweet Lengths by Intention')\n",
        "plt.xlabel('Intention')\n",
        "plt.ylabel('Number of Tokens')\n",
        "plt.show()"
      ],
      "metadata": {
        "id": "PavLhYTc-Np6",
        "colab": {
          "base_uri": "https://localhost:8080/",
          "height": 618
        },
        "outputId": "0f701096-331f-4451-9a07-0f40875d9546"
      },
      "id": "PavLhYTc-Np6",
      "execution_count": 64,
      "outputs": [
        {
          "output_type": "stream",
          "name": "stdout",
          "text": [
            "   intention  min   max       mean\n",
            "0          0    0    38   8.968366\n",
            "1          1    1  2142  73.646573\n"
          ]
        },
        {
          "output_type": "display_data",
          "data": {
            "text/plain": [
              "<Figure size 1200x600 with 1 Axes>"
            ],
            "image/png": "[encoded data removed]"
          },
          "metadata": {}
        }
      ]
    },
    {
      "cell_type": "code",
      "source": [
        "\n",
        "# Find the tweet with the maximum number of tokens\n",
        "max_token_tweet = df.loc[df['token_size'].idxmax()]\n",
        "\n",
        "print(\"\\nTweet with the maximum number of tokens:\")\n",
        "print(f\"Original tweet: {max_token_tweet['tweet']}\")\n",
        "print(f\"Preprocessed tweet: {' '.join(max_token_tweet['preprocessed_tweet'])}\")\n",
        "print(f\"Number of tokens: {max_token_tweet['token_size']}\")"
      ],
      "metadata": {
        "colab": {
          "base_uri": "https://localhost:8080/"
        },
        "id": "tnCv-6btRWwQ",
        "outputId": "1f8d873d-be6d-4284-e7fd-0282aa19f95d"
      },
      "id": "tnCv-6btRWwQ",
      "execution_count": 65,
      "outputs": [
        {
          "output_type": "stream",
          "name": "stdout",
          "text": [
            "\n",
            "Tweet with the maximum number of tokens:\n",
            "Original tweet: my diary log as of so far okay my first time writing this i know i will sound like some emo whiny attention whore bitch but i need to talk about this personally since nobody really cares or can really help or really gives to fucks or stereotypes mefirst off i wish i could stop looking down on myself i can t do it because i m always left behind i can t stand to see others treat me different i m treated as if i m not like everyone else and it s been like that since i was young and it reminds me of those times making me feel empty and unwanted i ve tried so hard to grow up with at least a good image on myself yet i still can not grow to find my own meaning i try to make others laugh it s my root of my own happiness i try so hard to bring you and others joy yet the flame slowly dies and i can feel it but i hold on because i feel something special something wanted i feel like as if we need eachother as if we are meant to be and i m sorry if i am a dissapointment to you or came out different then you expected when i say you ve changed me and you are you are i m being honest but i can t help looking down on myself and seeing you treat others as if they re better sometimes gives me old childhood memories being the different kid the one who wasn t really wantedi would talk more but i m usually ignoredalso you i need to talk about you with the name with the b in it you don t realise how much you hurt my daily life i am now afraid to even go to school since i am looked down upon now due to your stereotypes for me although it may seem funny to you it s not to me because i have to deal with it everyday wishing i was someone different you re treating me as if i am not human which is now making me think this and nobody even knows how i feel not online not in real life because i ll be looked at differently it s already stained i can t help who i am but i know that it s possible to get to your own happinesses whether it s throwing chairs at me publicly humiltating me and even punching me hitting me breaking my things i feel happy because you re getting your own satisfactory even if i sit and i cry nobody cares to take up for me and that s how it s always going to be i ve come home broken in tears over what you ve done to me due to who i am i hurt myself and i hide it because nobody needs to have a lower opinion on myself since you re so high up there with your popularity i ve had family fights over you and it s made me paranoid to even leave my house to see you and i don t wanna go back to school to see you or others either i look down the hallway with my head down wishing nobody would look at me i hate who i am and who i ve become and i ve tried finding light in the lives of others it s slowly working i hope i can see a dim light i hope i can make it even if you stand in the way it s fine you are getting what you need you are bigger and stronger i m smaller and less cared about i have lots of reasons to be hurt for who i am i remember what it was like being hit i remember being in panic tearing up at my table and you running off laughing with your group at me and it became everyday stealing my stuff everything i didn t care i couldn t do anything i ve tried to sit with others and ask for help but you ve made me feel like i can t i ve cried and i ve died on the inside i ve tried to stand up but i m so horrible at being mean i ve lost my anger it s just faded into selfdeprivating sadness you ll never know my life outside of your jokes that affect me you ll see it as a gag to hurt the gay boy because i m always alone and have nobody it is funny it is i ve come to laugh at myself too even if i am scared of seeing you and others i know they won t help they will not help i m not to be dwelled on i remember you coming to my locker and pushing me and hitting me in the back of my head smacking my phone and getting close to me and having others stare at me as if i was a monster i ran to class crying but i had covered it up i d rather let nobody know i ve tried no outcome i ve failed as a person as a partner as a son i m truly sorrysightray i know you hate me i know i m against what you think about me but i ve come to agreeance with it even though i did nothing to you i feel like i deserve what i get from you all of the abuse the drama i deserve it even all those plans to ruin my life and kill me they were worth it i know you and your friends plan things behind my back if you want to hurt me you can you have already so why not do it again you ve pressured suicide on me and i ve tried more than twice which i know makes you truly happy to see the only person who loved you die or at least want to i m glad i can bring you the happiness you ve always wanted everyone s come to believe your rumours and i retchedly have a dark feeling for you in my heart although it s all selfbased it s my mistake to end up like this and i ve tried to fix it but your fucking selfishness ruins itto all my old friends who have left mei m sorry i ve annoyed the living shit out of you i know who i am and i know i can t help it i m not worth any of those tears you cried either if any of you did i m sorry i ve pulled this image onto myself i m not sure what i ve done yet i ve assumed and i think i m right the feelings i ve harboured were like no others with friendship putting so much in trying hard at least an effort and i get turned down treated as if i was never born or existed all of those things i ve done have ended up in ash and worthless i can t help going out and getting a memory of you or one of you it hurts me and i try to find you guys again to talk i miss you you don t miss me though i can see why you ve found better people i m replaceable and i can see it happening with many people replaced by those who hate mefrom now on i will continue my life still putting my feelings underground i ve lived up to my stereotpye anyways trying to help myself i try to ignore the pain inside and one by one part of me slowly feels distant and the smile and emotions i ve harboured are fake i can t let you know the way i feel i don t need any of your sympathy the vicious words are slowly killing me i try so hard to bring empathy and joy while hiding behind the lie that has become who i am i just can t sleep that one of you is gone and i m afraid of losing others the wounds you ve left never heal i know you won t change you ve got the same look on your face things will never be the same b i feel your pain you hurt me but i won t ever object as like a fool i will smile through the tears your own personal lovable fool time fades away like yesterday the thing i hate the most is something i can t do i can t ignore him i try to once more my voice might be able to even reach the future already collapsing your voice has surely reached me making the ignored one me the selfish one me the number one thing i hate is how i can t do anything how much of a coward i am how i give up and how selfish i am even if there is no meaning even if i understand it s not easy to admit bonds washed away by carless whitewash even when i want to live in the world there s not any kindness i hide behind the feelings of fear sinking into hope and despair who do i turn to i offer to you not knowing anything at all i continue still to walk the earth no matter how many times done comes and goes recyled though the world isn t asking for anything it s beauty harassess me making me wish i was kinder in the morning it s okay to pretend to be happy because i want to be satisfiedi want to share my feelings and i had made it into a shape yet it s been broken many times over my own faultiness and i am able to repair my own mistakes if if you had the ears that i posess i d sing you a song or at least try to straight from my heart and if you had posessed the same heart as i do then i would flood you with all the love i have but would you even feel if you are predisposed to hate me please kill me now and end the misery bi can t gain anything at allyou don t need me at all evri don t need to reach your deafened ears or to fill your heart a dissapointment i was said to be but where am i in the distant future anyways i carried away alone wherever i run wherever i hide i am laughed at i don t dare to even look back new day 2so my nickname has been changed i m no longer something sweet just my regular name although you said that it was to prevent people mixing us up i ve noticed that it doesn t happen a lot and despite me changing it back you put it back sometimes i feel like you do it to attract other people to you so then you can say i don t have a partner but then again it s probably me overthinking i hope it s the opposite of what i m thinking i really love youday two continuedokay so what i had expected just happened i m fine to see you go i know it makes you happy even if it hurts me this explains a lot i ve given into your life and i was blinded by your love and not having any really true feelings i ve done a lot and not noticed i mean i m fine to see you go it s happened so many times it s just become something regular in my life i do feel sad and i feel remorse but your voice has surely reached me i know life will get harder it will worse things will happen but this will build up and i will keep everything special we had together even if it didn t work out although i was blinded thinking it was letting my anxieties and fears and bring people and i love down selfishly i will live oncass today at 721 pm dude you re crazy no offense i thought iwas paranoia but today at 721 pm i knowi love youalthough you dont love me its always going to be like this i shouldve listened to my headand all of the times i ve wrote about you to strangers asking for opinions saying that you truly loved me i can t trust anyone at all why me why meit has to be me i m so close to the edge i ve been filled with lies i remember when there used to be colors all over and i could wake up and barely open my eyes having a simple mind feeling so euphoric not knowing what later lurks in my lifetime wanting to stay in this moment always now my days are fading every time i blink foreseeing images flashing in my head violent voices wanting me dead opened eyes start to burn now the sun is just too much and when i close them the darkness engulfs me what s going on it s getting hard to breathe i m torn openi m on my knees asking you to stay and not to leave please don t go please don t goupdatehey apparently this text document is the only one that can handle meevery day is getting worse nobody is talking to me and yet now i ve noticed i m losing others i m crying right now wishing i could end all of my sadness and anxieties i ve realized how lonely i am i hate myself so much i can t help who i am i wish i could fully change who i am i want to restart i need to it s been so long without someone really i dont really have friends they re all out with other people i understand why nobody really cares to save me from my self hatesince you have left me things got worse i have been hurt more and i want to find a heroyet i have seen things i do not want to things i have done i don t want to that i will only tell myself yet you come backa sking for much yet you don t even feel the sameyou tell me you hope this and hope that later telling me different saying i am doing this and that calling me this and that making me feel uselessthe stroke of heat across my body with anxiety and self conciousness overwhelmes meeven the thought of me being nice to you and me saying i m assuming things when i am not hurtsi am not assuming i want an answer and i feel like it s true i make myself believe it you don t understand i am hurt by your changing feelingsbeaten robbed threatened while you were gone _ _ _ _ __ _ i don t love you anymore since when now just now i don t want to liecan t tell the truth so it s over it doesn t matter i love you none of it matters too late i don t love you anymore goodbyeyes i would have loved you forever now please go show me where is this love i i can t see it i can t touch it i can t feel it i can hear it i can hear some words but i can t do anything with your easy words whatever you say is too late please don t do this donenow that i look back counseling never really did help it helped me be someone else regretting my own past i ve become more weary and open to my own feelings and sadness past being within a sociopath s manner i care too much it s the problem having my own crisis looking for my own future and i can t even find it or the paths i feel like as if it s blocking me meant to be this way i can t find anything i m not suited to be my own self anymore i want to make it i can t everythings holding me down i feel like making a animatic based on my feelings yet realizing not even having talent no matter how hard effort is put into it we need to talk i know what that means never good at all you know thati hate the fact that you treat me like i m one of yours then you turn around and hit me and the ones you love and scream at me like it s my fault i am the way i am and what happens to meplease dont push me out of your group because im not the same i am willing do do anything to be part of you and all of you even if i have to do something thats already happeningim willing to hurt myself to make others happy because im not happy with myselfi can t be fixedrecent update i think i found him he s amazing in completely every way he understand fully who i am although he may have his own flaws he is perfect to mei can t ever thank him so much every day is getting better im not hurting anymore yet i do still hurt it s not as bad as before am i feeling true love is this what i was meant to feel is this who i really am if so i am proud of myself for becoming myself with the help of someone who really likes me for who i am he isn t blinded by my problems he knows fully it drags me to tears to know he understands i love him so much i hope i can see him one day and cry within his arms i think i have found my one and only gate to my own eutopiai love him i can t say it enough these tears won t stop as i put my love into this note he means everything to me although the days we spend get better and better if i m down i always remember what he tells me it s like magicwill not let my own circumstances firghten me no tortures looking upon the apperances will be the path of enternal euphoriai ve come to realization that it s okay if the only thing i did today was just breathe and siti have to remind myself that what i do is unique and although it will be hated and looked down upon hopefully pride will be found within my own actions soon enoughmy story isn t over yeti can shine brighter than the dark that has ever came across me like the night transforming into my own sun for me for others one of the heardest things to ever learn was that i was worth recovering and i m doing it finallyi wish i could show you when you are lonely or when you are in darkness the beautiful light of your own being telling myself being able to is couragenot being created to be guilty or in defeat i am created to be in victoryrecent update i still hurt but i ve become immune i ve found happiness and i hope it lasts i ve mostly found it through one person at first but it s reached out to many people i hope it stays like this gradually better everyday getting close to even leaving this shithole i m proud of myself for being this strong and finding someone who actually gives two shits about me and understands i m glad i have friends i am glad i am cared about i am who i am and when i hurt it s not as bad anymore it s not as if a knife is hurting me just more as of a soft punch i have to thank you so much for making me this way and i will do all i can do defend you in your honor and within my own love because you re the exact same we are the exact same love each other 3okay i know my love is going through a bad time i love him so much and even when he s drunk he tells me the straight truth that s a real man lately i ve been i have been giving out this diary i am quite happy i am getting better im happy i can leave soon i love the feeling of being independent i hated when my dad hit my mom at before ipc it was so embarassing i feel bad for my best friend cuz i hide things from everybody but they kinda know the truth now i love them a lot for a friend maybe they re my only true one he means more to anything to me qanything beautiful people want to break and i am afraid you are beautiful stay strong 3i m so thankful for this fandomi have found myself and people who love me without it i don t know where i would be so many friends so many smiles so many good times i love this fandomsigh i love him yet he s slightly hurting me he ignroes me i dont even exist anymore where is love i can t feel it see or touch iti can t take your sympathy anymore you don t even try you d rather have others you hurt me but you dont even know i don t complainlike a fool i smile through the tears with a fake mask i thought you were the one i wished upon a star for you the day before i met you why mefeeling more suicidal than beforeif only i could love you enough to give you what you need if only i could be for you the hand that feeds youif only i could make you believe you deserve everythingyou re angry di know you areyou mostly are all the time and i know i am part of it i tell you i m sad you get pissedthen you throw fits around the house cursing and throwing stuff breaking objects breaking feelings day by day being ignored grows stronger my love doesn t even talk to me anymore d ignores me i look outside and i think nobody is there for mei m stuck and i m tired of being hereyou don t need people they say how can i not need someone when i can t even make myself happy i can t share anything with anybody why can t i lovei just wanna say thanks for what you did yknow getting into drug problems and shit then blame it all on me get pissed when i try to helpyknow as if i dont care smoking 8 times a daydropped out of high school blames it on me i cant get into collegeor i cant get a jobhit her hit meyell at me i know youre stressed please dont take it out on us you dont know half of the other half of the story i can t wait to get out feeling coldthis room is hot from your smokei dont know why you act like such an ass when you smokeyou hurt me make me cry then get pissed off for me cryingyou just dont know me despite living with me for 17 yearsyou dont know who i ami push and push yet you tell me straight youre perfectionist your vicious lies kill meim sorry im not perfectim sorry im not the sporty beautiful attractive boy that you wantedim sorry i cant be one of your owni hope i can get away soon 3 more years maybe 1 and a half about 1 an 9 months i dont know im just donemy heart is slowly collapsingnew update 82217i m not proud of myself for what i ve started to do i ve gotten more into drama by accident and ive given into things i shouldn t i ve started drinking and it s made me feel so much more happier yet i still feel so badmy friends had found out about it and are really pissed off at me i m losing everyone due to my own self again i can t help it and i get the urge to drink now and then i want to push more maybe i don t know i m scared but i want something to alter everything to make it seem as its my own paradise school sucks i ve been failing more i don t feel like i fit in nothing s working out i was told i wouldn t graduate j and a are in some tough times getting mcs all raveled up in fights tearing all of us apart and im stuck in the middle since i dont take sides but i hide all my emotions none of them believe mei feel as if i am living my youth in grey not being livelyi m jealous of those who live life in the moment without having to worry about consequncesmy friends are just leaving one by one from lots of reasons stemming from others and at least a small percent from my shitty personalityi ve thought about self harming again but differentnew updateseptember 1stso you are severly disappointed in me i thought you d be supportive you said i can tell you anything and i came out instead all you did was be pissed and not agree with me and acting like im not one of youi ll put you in therapy again i ll put you on medicine that hurts me a lot i want to be myself i can t live on without having acceptance without my life being controlled i thought you guys would love me no matter what honestly i m not proud of who i am i get asked you proud to be gay i tell themthey get suprised it s because i ve faced so much to not be proud of i m different and thats badi d like to believe i m not i haven t seen proof so i don t debate it anymore it s like spending my life over and over thinking something will change it s absurdi don t want to be alonethe painful truth is even when people say they support something but don t support you that hurts it s hypocritical hypocrisy is a crime i just want to love and to be loved instead i just bottle up everythingone day they ll all forget about mei m a sack of shit and everybody knows iti m the earth s sack of shitmostly just want this to be over with even though my life is controlled by you and i ll never be an adult i ll never see the light through this topic of me being myself at least fully september 2ndthis day was even worse my dad ignored me not even a word was supposed to have my only friend over i had to tell her not to come over due to my dad going offturns out i m 100 sure he is disappointed in me with his smart ass sarcasmthrowing shit at me making me feel degraded i loved you and all you had to do was hurt me can i even call you my dadyou break things including my own hearttoday i was nothing to you just like every weekit s even worse all that you care about is the mind altering things you doi hate it how everytime i get sad like this things seem to get better and i regret typing or saying bad things about him then it repeats i need to stop thisi know the truth about my father he s hiding a lothe hides behind his happy maskmost of the times hes happy hes just pissed and ready to attack i m scared i m scared of the ones who love mei love how you justgot mad on my birthday ignored meim not important anymore to youyour outburts happen so many times im tired of assuming or thinking about itupdate you sped offand im alone i think its time i show myself its my fault nowand it ll be over the feelings i have i m not ending it i m just punishing myself for now9202017 i ve been feeling a bit better but then again another thing i did and i tripped and i fell into another spiral of darkness but when i got everything figured out i hurt another person by accident and i made them lose hope and all trust in me ghosting me completely and not even noticing i exist im such a fucking asshole for my self harm habits and venting _ _ _ _ _ _ _ 9272017 the festival is in town i have a crush i lovei somehow can not get the balls to talk to him i have in person and i ve told him a lot but i think he doesn t like me anymore it s been about 2 days and he hasn t even opened my messages yet he looked at my story i don t know if he wants to talk anymore and we got so close i heard he likes me back as welli feel so unloved and unwanted to i remember the ones i love there were fighting and people were divided i had gotten called out a couple times and that and i was ignored that and i am getting stared at because of my shitty social anxietyi started cutting again this time its worse i cut deeper and i m scaredit s okay though the adreneline is enough to keep me happy i feel nothing without themi don t know what to doi feel so alone even when i m crying in front of thousands of people nobody will ever notice what s wrongmy grades went down and i feel like a dissapointment i heard the guy i like likes me but he won t speak to me anymore i hope for the best honestlysigh i ve been feeling quite suicidal but i m too scared to do anything but the more i cut the better i feeli m sorry\n",
            "Preprocessed tweet: diary log far okay first time write know sound like emo whiny attention whore bitch need talk personally since nobody really care really help really give fuck stereotype mefirst wish could stop look always leave behind stand see others treat different treat like everyone else like since young remind time make feel empty unwanted try hard grow least good image yet still grow find meaning try make others laugh root happiness try hard bring others joy yet flame slowly die feel hold feel something special something want feel like need eachother mean sorry dissapointment come different expect say change honest help look see treat others good sometimes give old childhood memory different kid one really wantedi would talk usually ignoredalso need talk name b realise much hurt daily life afraid even go school since look upon due stereotype although may seem funny deal everyday wish someone different treat human make think nobody even know feel online real life look differently already stain help know possible get happiness whether throw chair publicly humiltating even punch hit break thing feel happy get satisfactory even sit cry nobody care take always go come home break tear due hurt hide nobody need low opinion since high popularity family fight make paranoid even leave house see wan na go back school see others either look hallway head wish nobody would look hate become try find light life others slowly work hope see dim light hope make even stand way fine get need big strong small less cared lot reason hurt remember like hit remember panic tear table run laugh group become everyday steal stuff everything care anything try sit others ask help make feel like cry die inside try stand horrible mean lose anger fade selfdeprivating sadness never know life outside joke affect see gag hurt gay boy always alone nobody funny come laugh even scar see others know win help help dwell remember come locker push hit back head smack phone get close others stare monster run class cry cover rather let nobody know try outcome fail person partner son truly sorrysightray know hate know think come agreeance even though nothing feel like deserve get abuse drama deserve even plan ruin life kill worth know friend plan thing behind back want hurt already pressured suicide try twice know make truly happy see person love die least want glad bring happiness always want everyone come believe rumour retchedly dark feeling heart although selfbased mistake end like try fix fucking selfishness ruin itto old friend leave mei sorry annoy living shit know know help worth tear cry either sorry pull image onto sure yet assume think right feeling harbour like others friendship put much try hard least effort get turn treat never bear exist thing end ash worthless help go get memory one hurt try find guys talk miss miss though see find better people replaceable see happen many people replace hate mefrom continue life still put feeling underground live stereotpye anyways try help try ignore pain inside one one part slowly feel distant smile emotion harbour fake let know way feel need sympathy vicious word slowly kill try hard bring empathy joy hide behind lie become sleep one go afraid lose others wound leave never heal know win change get look face thing never b feel pain hurt win ever object like fool smile tear personal lovable fool time fade away like yesterday thing hate something ignore try voice might able even reach future already collapse voice surely reach make ignored one selfish one number one thing hate anything much coward give selfish even mean even understand easy admit bond wash away carless whitewash even want live world kindness hide behind feeling fear sinking hope despair turn offer know anything continue still walk earth matter many time come go recyled though world ask anything beauty harassess make wish kinder morning okay pretend happy want satisfiedi want share feeling make shape yet broken many time faultiness able repair mistake ear pose sing song least try straight heart pose heart would flood love would even feel predispose hate please kill end misery bi gain anything allyou need evri need reach deafened ear fill heart dissapointment say distant future anyways carry away alone wherever run wherever hide laugh dare even look back new day nickname change longer something sweet regular name although say prevent people mix u notice happen lot despite change back put back sometimes feel like attract people say partner probably overthinking hope opposite think really love youday two continuedokay expect happen fine see go know make happy even hurt explain lot give life blind love really true feeling lot notice mean fine see go happen many time become something regular life feel sad feel remorse voice surely reach know life get hard worse thing happen build keep everything special together even work although blind think let anxiety fear bring people love selfishly live oncass today pm dude crazy offense think iwas paranoia today pm knowi love youalthough dont love always go like shouldve listen headand time write stranger ask opinion say truly loved trust anyone meit close edge fill lie remember use color could wake barely open eye simple mind feel euphoric know later lurk lifetime want stay moment always day fade every time blink foresee image flash head violent voice want dead open eye start burn sun much close darkness engulf go get hard breathe tear openi knee ask stay leave please go please goupdatehey apparently text document one handle meevery day get bad nobody talk yet notice lose others cry right wish could end sadness anxiety realize lonely hate much help wish could fully change want restart need long without someone really dont really friend people understand nobody really care save self hatesince leave thing get bad hurt want find heroyet see thing want thing want tell yet come backa sking much yet even feel sameyou tell hope hope later tell different say call make feel uselessthe stroke heat across body anxiety self conciousness overwhelmes meeven thought nice say assume thing hurtsi assume want answer feel like true make believe understand hurt change feelingsbeaten rob threaten go _ _ _ _ __ _ love anymore since want liecan tell truth matter love none matter late love anymore goodbyeyes would love forever please go show love see touch feel hear hear word anything easy word whatever say late please donenow look back counsel never really help help someone else regret past become weary open feeling sadness past within sociopath manner care much problem crisis look future even find path feel like block meant way find anything suit self anymore want make everythings hold feel like make animatic base feeling yet realize even talent matter hard effort put need talk know mean never good know thati hate fact treat like one turn around hit one love scream like fault way happen meplease dont push group im willing anything part even something thats already happeningim willing hurt make others happy im happy myselfi fixedrecent update think find amaze completely every way understand fully although may flaw perfect mei ever thank much every day get well im hurt anymore yet still hurt bad feeling true love mean feel really proud become help someone really like blind problem know fully drag tear know understand love much hope see one day cry within arm think find one gate eutopiai love say enough tear win stop put love note mean everything although day spend get good good always remember tell like magicwill let circumstance firghten torture look upon apperances path enternal euphoriai come realization okay thing today breathe siti remind unique although hat look upon hopefully pride find within action soon enoughmy story yeti shine brighter dark ever come across like night transform sun others one heard thing ever learn worth recovering finallyi wish could show lonely darkness beautiful light tell able couragenot create guilty defeat create victoryrecent update still hurt become immune find happiness hope last mostly find one person first reach many people hope stay like gradually good everyday get close even leave shithole proud strong find someone actually give two shit understand glad friend glad care hurt bad anymore knife hurt soft punch thank much make way defend honor within love exact exact love okay know love go bad time love much even drunk tell straight truth real man lately give diary quite happy get well im happy leave soon love feeling independent hat dad hit mom ipc embarassing feel bad best friend cuz hide thing everybody kinda know truth love lot friend maybe true one mean anything qanything beautiful people want break afraid beautiful stay strong thankful fandomi find people love without know would many friend many smile many good time love fandomsigh love yet slightly hurt ignroes dont even exist anymore love feel see touch iti take sympathy anymore even try rather others hurt dont even know complainlike fool smile tear fake mask think one wish upon star day meet mefeeling suicidal beforeif could love enough give need could hand feed youif could make believe deserve everythingyou angry di know areyou mostly time know part tell sad get pissedthen throw fit around house cursing throw stuff break object break feeling day day ignore grows strong love even talk anymore ignores look outside think nobody mei stuck tire hereyou need people say need someone even make happy share anything anybody lovei wan na say thanks yknow get drug problem shit blame get piss try helpyknow dont care smoke time daydropped high school blame cant get collegeor cant get jobhit hit meyell know youre stress please dont take u dont know half half story wait get feel coldthis room hot smokei dont know act like smokeyou hurt make cry get piss cryingyou dont know despite live yearsyou dont know ami push push yet tell straight youre perfectionist vicious lie kill meim sorry im perfectim sorry im sporty beautiful attractive boy wantedim sorry cant one owni hope get away soon year maybe half month dont know im donemy heart slowly collapsingnew update proud start get drama accident ive give thing start drinking make feel much happy yet still feel badmy friend find really piss lose everyone due self help get urge drink want push maybe know scar want something alter everything make seem paradise school suck fail feel like fit nothing work tell graduate j tough time get mc ravel fight tear u apart im stuck middle since dont take side hide emotion none believe mei feel live youth grey livelyi jealous live life moment without worry consequncesmy friend leave one one lot reason stem others least small percent shitty personalityi think self harming differentnew updateseptember stso severly disappoint think supportive say tell anything come instead piss agree act like im one youi put therapy put medicine hurt lot want live without acceptance without life control think guy would love matter honestly proud get ask proud gay tell themthey get suprised face much proud different thats badi like believe see proof debate anymore like spending life think something change absurdi want alonethe painful truth even people say support something support hurt hypocritical hypocrisy crime want love love instead bottle everythingone day forget mei sack shit everybody know iti earth sack shitmostly want even though life control never adult never see light topic least fully september ndthis day even bad dad ignore even word suppose friend tell come due dad go offturns sure disappoint smart sarcasmthrowing shit make feel degrade love hurt even call dadyou break thing include hearttoday nothing like every weekit even bad care mind alter thing doi hate everytime get sad like thing seem get good regret type say bad thing repeat need stop thisi know truth father hide lothe hide behind happy maskmost time happy piss ready attack scar scar one love mei love justgot mad birthday ignore meim important anymore youyour outburts happen many time im tire assume think itupdate speed offand im alone think time show fault nowand feeling end punish feel bit well another thing trip fell another spiral darkness get everything figure hurt another person accident make lose hope trust ghost completely even notice exist im fucking asshole self harm habit vent _ _ _ _ _ _ _ festival town crush lovei somehow get ball talk person tell lot think like anymore day even open message yet look story know want talk anymore get close heard like back welli feel unloved unwanted remember one love fight people divide get call couple time ignore get star shitty social anxietyi start cut time bad cut deep scaredit okay though adreneline enough keep happy feel nothing without themi know doi feel alone even cry front thousand people nobody ever notice wrongmy grade go feel like dissapointment hear guy like like win speak anymore hope best honestlysigh feel quite suicidal scar anything cut good feeli sorry\n",
            "Number of tokens: 2142\n"
          ]
        }
      ]
    },
    {
      "cell_type": "markdown",
      "id": "2e129c7a31663741",
      "metadata": {
        "collapsed": false,
        "id": "2e129c7a31663741"
      },
      "source": [
        "# Word2Vec - Word Embedding section 1"
      ]
    },
    {
      "cell_type": "markdown",
      "source": [
        "<font color='red'>1.</font>\n",
        "\n",
        "Initializing with Zero Vector\n",
        "\n",
        "Pros\n",
        "\n",
        "Simplicity: Using a zero vector for unknown words is straightforward and computationally inexpensive. It does not require additional resources or complex preprocessing steps 1.\n",
        "\n",
        "Uniformity: This approach ensures that all embeddings have the same initial state, which can be beneficial for training models, especially when the model learns to differentiate between known and unknown words during training 1.\n",
        "\n",
        "Flexibility: It provides flexibility in handling OOV words by allowing the model to learn from the context in which these words appear. This can sometimes lead to reasonable approximations of the meanings of unknown words 1.\n",
        "\n",
        "Cons\n",
        "\n",
        "Lack of Semantic Information: A zero vector carries no semantic information about the word, which can be limiting, especially for tasks where capturing the nuances of word meanings is crucial 1.\n",
        "Potential for Dilution: Using a uniform zero vector for all unknown words can dilute the learning signal, making it harder for the model to distinguish between different types of unknown words based on their context 1.\n",
        "\n",
        "Dependency on Context: The success of this approach heavily relies on the model's ability to infer the meaning of unknown words from their context. This might not always be reliable, especially in cases where the context does not provide enough clues 1.\n",
        "\n",
        "Learning to Predict Embeddings:\n",
        "\n",
        "Train a model to predict the embedding of an unknown word based on its context. This approach can dynamically adapt to unseen words but requires additional training data.\n",
        "\n",
        "Pros: Adapts to the specific domain and context.\n",
        "\n",
        "Cons: Increases model complexity and training time."
      ],
      "metadata": {
        "id": "HNhUp_ce_X8v"
      },
      "id": "HNhUp_ce_X8v"
    },
    {
      "cell_type": "code",
      "execution_count": 11,
      "id": "8d15b31459fd1e5",
      "metadata": {
        "colab": {
          "base_uri": "https://localhost:8080/"
        },
        "id": "8d15b31459fd1e5",
        "outputId": "2f2d208d-d49b-4588-c074-0adc8d796bbf"
      },
      "outputs": [
        {
          "output_type": "stream",
          "name": "stdout",
          "text": [
            "fasttext-wiki-news-subwords-300\n",
            "conceptnet-numberbatch-17-06-300\n",
            "word2vec-ruscorpora-300\n",
            "word2vec-google-news-300\n",
            "glove-wiki-gigaword-50\n",
            "glove-wiki-gigaword-100\n",
            "glove-wiki-gigaword-200\n",
            "glove-wiki-gigaword-300\n",
            "glove-twitter-25\n",
            "glove-twitter-50\n",
            "glove-twitter-100\n",
            "glove-twitter-200\n",
            "__testing_word2vec-matrix-synopsis\n"
          ]
        }
      ],
      "source": [
        "# print available word2vec models\n",
        "import gensim.downloader as api\n",
        "print(\"\\n\".join(api.info()['models'].keys()))"
      ]
    },
    {
      "cell_type": "code",
      "execution_count": 12,
      "id": "55bbe6faa1226b8d",
      "metadata": {
        "colab": {
          "base_uri": "https://localhost:8080/"
        },
        "id": "55bbe6faa1226b8d",
        "outputId": "5ca7b18a-8fe7-4c51-9687-f061408b0be7"
      },
      "outputs": [
        {
          "output_type": "stream",
          "name": "stdout",
          "text": [
            "Loading Word2Vec model...\n",
            "Word2Vec model is loaded.\n"
          ]
        }
      ],
      "source": [
        "# Define the path to save the Word2Vec model\n",
        "W2V_PATH = '/content/drive/MyDrive/word2vec-google-news-300/word2vec-google-news-300.model'\n",
        "\n",
        "if W2V_PATH is not None and os.path.exists(W2V_PATH):\n",
        "    print(\"Loading Word2Vec model...\")\n",
        "    w2v_model = gensim.models.KeyedVectors.load(W2V_PATH, mmap='r')\n",
        "    print(\"Word2Vec model is loaded.\")\n",
        "else:\n",
        "    print(\"Downloading Word2Vec model...\")\n",
        "    w2v_model = api.load(\"word2vec-google-news-300\")\n",
        "    print(\"Word2vec model is downloaded.\")\n",
        "    if W2V_PATH is not None:\n",
        "      print(\"\\nSaving Word2Vec model...\")\n",
        "      w2v_model.save(W2V_PATH)\n",
        "      print(\"Word2Vec model is saved.\")"
      ]
    },
    {
      "cell_type": "code",
      "execution_count": 13,
      "id": "7d53926889defc38",
      "metadata": {
        "colab": {
          "base_uri": "https://localhost:8080/"
        },
        "id": "7d53926889defc38",
        "outputId": "b55807da-2745-48af-8151-3bb7bcd53341"
      },
      "outputs": [
        {
          "output_type": "stream",
          "name": "stdout",
          "text": [
            "300\n"
          ]
        }
      ],
      "source": [
        "EMBEDDING_VECTOR_DIM = w2v_model.vector_size\n",
        "print(EMBEDDING_VECTOR_DIM)"
      ]
    },
    {
      "cell_type": "markdown",
      "id": "21730f8dd01e5b4e",
      "metadata": {
        "collapsed": false,
        "id": "21730f8dd01e5b4e"
      },
      "source": [
        "# Dataset"
      ]
    },
    {
      "cell_type": "code",
      "execution_count": 14,
      "id": "xdqLYrA4xjuX",
      "metadata": {
        "id": "xdqLYrA4xjuX"
      },
      "outputs": [],
      "source": [
        "class Twitter(Dataset):\n",
        "    def __init__(self, dataframe: pd.DataFrame, w2v_model: gensim.models.KeyedVectors, sequence_len: int):\n",
        "        self.dataframe = dataframe\n",
        "        self.w2v_model = w2v_model\n",
        "        self.max_sequence_len = sequence_len\n",
        "        self.vector_size = w2v_model.vector_size\n",
        "\n",
        "        self.df_token_col = \"tokens\"\n",
        "\n",
        "\n",
        "        self._proc_dataset()\n",
        "\n",
        "        self.len = len(self.dataframe)\n",
        "\n",
        "    def __len__(self):\n",
        "        return self.len\n",
        "\n",
        "    def __getitem__(self, idx):\n",
        "        return self.dataframe.iloc[idx][\"vector\"], self.dataframe.iloc[idx][\"intention\"]\n",
        "\n",
        "    def get_vector_size(self):\n",
        "        return self.vector_size\n",
        "\n",
        "    def _proc_dataset(self):\n",
        "        # Preprocess and return tokens list\n",
        "        self.dataframe[self.df_token_col] = self.dataframe[\"tweet\"].map(preprocess_data)\n",
        "\n",
        "        # delete samples with empty tokens\n",
        "        lwz = len(self.dataframe)\n",
        "        self.dataframe = self.dataframe[self.dataframe[self.df_token_col].map(len) > 0]\n",
        "        self.dataframe.reset_index(drop=True, inplace=True)\n",
        "        print(f\"Deleted 0-Len Samples: {lwz - len(self.dataframe)}\")\n",
        "\n",
        "        # Add padding\n",
        "        self.dataframe[self.df_token_col] = self.dataframe[self.df_token_col].map(self._pad)\n",
        "\n",
        "        # Get embedding's vectors\n",
        "        self.dataframe[\"vector\"] = self.dataframe[self.df_token_col].map(self._get_word_vectors)\n",
        "\n",
        "    def _get_word_vectors(self, tokens: list) -> torch.tensor:\n",
        "\n",
        "      vectors = []\n",
        "      for token in tokens:\n",
        "          if token in self.w2v_model:\n",
        "              vectors.append(self.w2v_model[token])\n",
        "          else:\n",
        "              vectors.append(np.zeros(self.vector_size))\n",
        "      return self._to_tensor(vectors)\n",
        "\n",
        "    def _pad(self, tokens: list):\n",
        "\n",
        "        if len(tokens) < self.max_sequence_len:\n",
        "            tokens.extend(['<PAD>'] * (self.max_sequence_len - len(tokens)))\n",
        "        else:\n",
        "            tokens = tokens[:self.max_sequence_len]\n",
        "        return tokens\n",
        "\n",
        "    def seq_report(self):\n",
        "        length_all = self.dataframe[self.df_token_col].map(len).tolist()\n",
        "        max_length = np.max(length_all)\n",
        "        print(f\"Sequence Length Report\")\n",
        "        print(f\":::::MAX  LENGTH:::[{max_length:^5}]\")\n",
        "        print(f\":::::MIN  LENGTH:::[{np.min(length_all):^5}]\")\n",
        "        print(f\":::::MEAN LENGTH:::[{np.mean(length_all):^5}]\")\n",
        "\n",
        "        all_tokens = set()\n",
        "        for token_set in self.dataframe[self.df_token_col].tolist():\n",
        "            all_tokens = all_tokens.union(set(token_set))\n",
        "        unique_tokens_count = len(all_tokens)\n",
        "        valid_tokens = sum(1 if token in self.w2v_model else 0 for token in all_tokens)\n",
        "        print(\"Sequence Tokenization Report\")\n",
        "        print(f\":::::All Unique Tokens:::[{unique_tokens_count:^6}\")\n",
        "        print(f\":::::All Valid Tokens:::[{valid_tokens:^6}\")\n",
        "        print(f\":::::Valid Tokens:::[{round(100*valid_tokens/unique_tokens_count, 2):^5}%]\")\n",
        "\n",
        "    @staticmethod\n",
        "    def _to_tensor(tokens: list):\n",
        "        return torch.tensor(tokens, dtype=torch.float32)"
      ]
    },
    {
      "cell_type": "code",
      "execution_count": 15,
      "id": "fCBbrn2SCwZY",
      "metadata": {
        "colab": {
          "base_uri": "https://localhost:8080/"
        },
        "id": "fCBbrn2SCwZY",
        "outputId": "102d1c1c-e9fa-4f04-bcad-142c30fda7fe"
      },
      "outputs": [
        {
          "output_type": "stream",
          "name": "stdout",
          "text": [
            "Deleted 0-Len Samples: 31\n"
          ]
        },
        {
          "output_type": "stream",
          "name": "stderr",
          "text": [
            "<ipython-input-14-3c869faa1126>:35: SettingWithCopyWarning: \n",
            "A value is trying to be set on a copy of a slice from a DataFrame.\n",
            "Try using .loc[row_indexer,col_indexer] = value instead\n",
            "\n",
            "See the caveats in the documentation: https://pandas.pydata.org/pandas-docs/stable/user_guide/indexing.html#returning-a-view-versus-a-copy\n",
            "  self.dataframe[self.df_token_col] = self.dataframe[self.df_token_col].map(self._pad)\n",
            "<ipython-input-14-3c869faa1126>:78: UserWarning: Creating a tensor from a list of numpy.ndarrays is extremely slow. Please consider converting the list to a single numpy.ndarray with numpy.array() before converting to a tensor. (Triggered internally at ../torch/csrc/utils/tensor_new.cpp:274.)\n",
            "  return torch.tensor(tokens, dtype=torch.float32)\n",
            "<ipython-input-14-3c869faa1126>:38: SettingWithCopyWarning: \n",
            "A value is trying to be set on a copy of a slice from a DataFrame.\n",
            "Try using .loc[row_indexer,col_indexer] = value instead\n",
            "\n",
            "See the caveats in the documentation: https://pandas.pydata.org/pandas-docs/stable/user_guide/indexing.html#returning-a-view-versus-a-copy\n",
            "  self.dataframe[\"vector\"] = self.dataframe[self.df_token_col].map(self._get_word_vectors)\n"
          ]
        },
        {
          "output_type": "stream",
          "name": "stdout",
          "text": [
            "Sequence Length Report\n",
            ":::::MAX  LENGTH:::[ 64  ]\n",
            ":::::MIN  LENGTH:::[ 64  ]\n",
            ":::::MEAN LENGTH:::[64.0 ]\n",
            "Sequence Tokenization Report\n",
            ":::::All Unique Tokens:::[15874 \n",
            ":::::All Valid Tokens:::[10646 \n",
            ":::::Valid Tokens:::[67.07%]\n"
          ]
        }
      ],
      "source": [
        "sequence_len = 64\n",
        "\n",
        "# Initialize the Twitter dataset\n",
        "dataset = Twitter(df, w2v_model, sequence_len)\n",
        "dataset.seq_report()"
      ]
    },
    {
      "cell_type": "code",
      "execution_count": 16,
      "id": "ij9-ke8mG8fq",
      "metadata": {
        "id": "ij9-ke8mG8fq",
        "colab": {
          "base_uri": "https://localhost:8080/"
        },
        "outputId": "d9f78ecf-29b6-4497-ab2d-1921532dc5da"
      },
      "outputs": [
        {
          "output_type": "stream",
          "name": "stdout",
          "text": [
            "Vector shape: torch.Size([64, 300]), Intention: 1\n",
            "tensor([[-0.0679,  0.0952,  0.0356,  ...,  0.1270, -0.1035,  0.0476],\n",
            "        [ 0.2578,  0.0258,  0.2168,  ...,  0.0649, -0.1816,  0.0520],\n",
            "        [ 0.1367,  0.1484,  0.1147,  ..., -0.1826,  0.0444, -0.0417],\n",
            "        ...,\n",
            "        [ 0.0000,  0.0000,  0.0000,  ...,  0.0000,  0.0000,  0.0000],\n",
            "        [ 0.0000,  0.0000,  0.0000,  ...,  0.0000,  0.0000,  0.0000],\n",
            "        [ 0.0000,  0.0000,  0.0000,  ...,  0.0000,  0.0000,  0.0000]])\n"
          ]
        }
      ],
      "source": [
        "# Example of fetching data\n",
        "for i in range(len(dataset)):\n",
        "    vector, intention = dataset[i]\n",
        "    print(f\"Vector shape: {vector.shape}, Intention: {intention}\")\n",
        "    print(vector)\n",
        "    break"
      ]
    },
    {
      "cell_type": "markdown",
      "id": "4b87e7e8b267a1c8",
      "metadata": {
        "collapsed": false,
        "id": "4b87e7e8b267a1c8"
      },
      "source": [
        "# Prepare Data"
      ]
    },
    {
      "cell_type": "markdown",
      "id": "bd00ab880892e646",
      "metadata": {
        "collapsed": false,
        "id": "bd00ab880892e646"
      },
      "source": [
        "## Split Data into train-valid"
      ]
    },
    {
      "cell_type": "code",
      "execution_count": 17,
      "id": "6a54facda2729872",
      "metadata": {
        "id": "6a54facda2729872"
      },
      "outputs": [],
      "source": [
        "import numpy as np\n",
        "from sklearn.model_selection import train_test_split\n",
        "\n",
        "# Assuming `dataset` is a list of (vector, intention) tuples\n",
        "# Example: dataset = [(np.array([0.1, 0.2, 0.3]), 'intention1'), (np.array([0.4, 0.5, 0.6]), 'intention2'), ...]\n",
        "\n",
        "# Extract features and labels\n",
        "vectors = [item[0] for item in dataset]\n",
        "intentions = [item[1] for item in dataset]\n",
        "\n",
        "# Convert lists to numpy arrays\n",
        "vectors = np.array(vectors)\n",
        "intentions = np.array(intentions)\n",
        "\n",
        "# Split the dataset into training and testing sets\n",
        "X_train, X_test, y_train, y_test = train_test_split(vectors, intentions, test_size=0.2, random_state=42)\n"
      ]
    },
    {
      "cell_type": "code",
      "source": [
        "X_train_reshaped = X_train.transpose(0, 2, 1)  # Permute the dimensions\n",
        "X_test_reshaped = X_test.transpose(0, 2, 1)  # Permute the dimensions\n",
        "print(X_train_reshaped.shape)\n"
      ],
      "metadata": {
        "colab": {
          "base_uri": "https://localhost:8080/"
        },
        "id": "bgAqVdd350jp",
        "outputId": "7ae50951-81c4-4b5e-9bdb-eb4af19df95f"
      },
      "id": "bgAqVdd350jp",
      "execution_count": 18,
      "outputs": [
        {
          "output_type": "stream",
          "name": "stdout",
          "text": [
            "(7270, 300, 64)\n"
          ]
        }
      ]
    },
    {
      "cell_type": "markdown",
      "id": "670fcd8db0e5651c",
      "metadata": {
        "collapsed": false,
        "id": "670fcd8db0e5651c"
      },
      "source": [
        "## Create Datasets"
      ]
    },
    {
      "cell_type": "code",
      "execution_count": null,
      "id": "3e4a5b690afadad5",
      "metadata": {
        "id": "3e4a5b690afadad5",
        "colab": {
          "base_uri": "https://localhost:8080/"
        },
        "outputId": "b84c1bf0-8d5a-47ab-ff80-cb846cff49c9"
      },
      "outputs": [
        {
          "output_type": "stream",
          "name": "stdout",
          "text": [
            "(7270, 64, 300)\n",
            "(7270, 300, 64)\n"
          ]
        }
      ],
      "source": [
        "print(X_train.shape)\n",
        "print(X_train_reshaped.shape)\n"
      ]
    },
    {
      "cell_type": "markdown",
      "id": "fd1da733e79676ff",
      "metadata": {
        "collapsed": false,
        "id": "fd1da733e79676ff"
      },
      "source": [
        "# Model and Train section 2"
      ]
    },
    {
      "cell_type": "markdown",
      "source": [
        "<font color='red'>1.</font>\n",
        "\n",
        "SGD\n",
        "\n",
        "Basic Form of Gradient Descent: SGD is the simplest form of gradient descent, where the batch size is 1. It updates the model parameters by subtracting the gradient multiplied by the learning rate from the current parameter values 2.\n",
        "\n",
        "Adam\n",
        "\n",
        "Adaptive Learning Rates: Adam adapts the learning rates for each weight individually, based on the average of the second moments (uncentered variance) of the gradients. This makes it more robust to noisy gradients and can accelerate convergence 3.\n",
        "\n",
        "Key Differences\n",
        "\n",
        "Complexity vs. Simplicity: Adam introduces additional complexity with its adaptive learning rates, whereas SGD operates with a constant learning rate, making it simpler to understand and implement"
      ],
      "metadata": {
        "id": "uRup1150_18j"
      },
      "id": "uRup1150_18j"
    },
    {
      "cell_type": "markdown",
      "source": [
        "<font color='red'>2.</font>\n",
        "\n",
        "Advantages of Using Cross-Entropy for Binary Classification in NLP\n",
        "\n",
        "Probabilistic Interpretation:\n",
        "\n",
        "Cross-entropy inherently deals with probabilities, making it suitable for tasks where the output is a probability distribution over classes. This is ideal for binary classification, where the model predicts the probability of belonging to one class versus another 1.\n",
        "\n",
        "Handling Imbalanced Datasets:\n",
        "\n",
        "Binary cross-entropy is effective in handling imbalanced datasets by assigning higher penalties for misclassifying the minority class. This is particularly useful in NLP tasks where the classes might not be evenly distributed 1."
      ],
      "metadata": {
        "id": "nniTL5qQA4Fa"
      },
      "id": "nniTL5qQA4Fa"
    },
    {
      "cell_type": "markdown",
      "source": [
        "<font color='red'>3.</font>\n",
        "\n",
        "test_size=0.2\n",
        "\n",
        "Balance Between Training and Testing:\n",
        "\n",
        " A test_size of 0.2 means that 20% of the dataset is reserved for testing, leaving 80% for training. This allocation is considered a good starting point for many projects, providing a sufficient amount of data for training while still having a substantial portion for testing\n"
      ],
      "metadata": {
        "id": "JETgcW05Be39"
      },
      "id": "JETgcW05Be39"
    },
    {
      "cell_type": "markdown",
      "source": [
        "<font color='red'>4.</font>\n",
        "\n",
        "Large Kernel Sizes (e.g., 7x7, 11x11):\n",
        "\n",
        "Broad Patterns: Larger kernels capture broader patterns and more contextual information within a single layer. This is useful for identifying large structures or objects in the input data.\n",
        "\n",
        "Fewer Layers: Networks with larger kernels can potentially use fewer layers to capture the same level of global context. This can make the network shallower, reducing the depth and potentially the computational cost associated with deep networks.\n",
        "\n",
        "Small Kernel Sizes (e.g., 3x3, 5x5):\n",
        "\n",
        "Fine Details: Smaller kernels capture fine details and small features in the input data. This is particularly useful for tasks requiring high precision and detail, such as edge detection and texture analysis.\n",
        "\n",
        "More Layers: To capture larger patterns, a network with small kernels requires more layers, which allows for deeper hierarchical feature extraction. Each subsequent layer can combine features from previous layers to detect more complex patterns.\n",
        "\n"
      ],
      "metadata": {
        "id": "x0-agcHYB7P4"
      },
      "id": "x0-agcHYB7P4"
    },
    {
      "cell_type": "markdown",
      "source": [
        "<font color='red'>5.</font>\n",
        "\n",
        "Convolutional Layers:\n",
        "\n",
        "Convolutional layers are primarily designed to preserve and leverage the spatial relationships within the data. They apply local filters to detect local patterns and features across the spatial dimensions of the input.\n",
        "\n",
        "When used to reduce dimensions, convolutional layers would still focus on local patterns, which might not effectively combine global information from the entire feature map.\n",
        "\n",
        "Linear Layers:\n",
        "\n",
        "Linear layers (fully connected layers) treat the input as a single-dimensional vector and combine information from all spatial locations. This allows them to aggregate global features from the entire feature map.\n",
        "\n",
        "They are effective at summarizing the extracted features into a fixed-size vector, which is essential for tasks like classification where each class needs to be represented by a unique set of features."
      ],
      "metadata": {
        "id": "cbJ6nlllGbk9"
      },
      "id": "cbJ6nlllGbk9"
    },
    {
      "cell_type": "markdown",
      "id": "aa29012e257e3d9",
      "metadata": {
        "collapsed": false,
        "id": "aa29012e257e3d9"
      },
      "source": [
        "## Utils"
      ]
    },
    {
      "cell_type": "code",
      "execution_count": 19,
      "id": "78xx32IumR-L",
      "metadata": {
        "id": "78xx32IumR-L",
        "colab": {
          "base_uri": "https://localhost:8080/",
          "height": 332
        },
        "outputId": "bfd48311-55e4-429d-8b24-e2851967b71d"
      },
      "outputs": [
        {
          "output_type": "stream",
          "name": "stdout",
          "text": [
            "Collecting typing\n",
            "  Downloading typing-3.7.4.3.tar.gz (78 kB)\n",
            "\u001b[2K     \u001b[90m━━━━━━━━━━━━━━━━━━━━━━━━━━━━━━━━━━━━━━━━\u001b[0m \u001b[32m78.6/78.6 kB\u001b[0m \u001b[31m874.7 kB/s\u001b[0m eta \u001b[36m0:00:00\u001b[0m\n",
            "\u001b[?25h  Preparing metadata (setup.py) ... \u001b[?25l\u001b[?25hdone\n",
            "Building wheels for collected packages: typing\n",
            "  Building wheel for typing (setup.py) ... \u001b[?25l\u001b[?25hdone\n",
            "  Created wheel for typing: filename=typing-3.7.4.3-py3-none-any.whl size=26306 sha256=496d5a2d9daf42ddc1853e1c1553697e64df4c75dbeab24e2fee30796e9c34b6\n",
            "  Stored in directory: /root/.cache/pip/wheels/7c/d0/9e/1f26ebb66d9e1732e4098bc5a6c2d91f6c9a529838f0284890\n",
            "Successfully built typing\n",
            "Installing collected packages: typing\n",
            "Successfully installed typing-3.7.4.3\n"
          ]
        },
        {
          "output_type": "display_data",
          "data": {
            "application/vnd.colab-display-data+json": {
              "pip_warning": {
                "packages": [
                  "typing"
                ]
              },
              "id": "357aaf1ef46d4083b2ce80351dd76aad"
            }
          },
          "metadata": {}
        }
      ],
      "source": [
        "pip install typing"
      ]
    },
    {
      "cell_type": "code",
      "execution_count": 20,
      "id": "d5b33657ae501516",
      "metadata": {
        "id": "d5b33657ae501516"
      },
      "outputs": [],
      "source": [
        "from typing import Literal\n",
        "\n",
        "\n",
        "@torch.no_grad()\n",
        "\n",
        "def model_eval(model, loader, loss_function, device: Literal['cuda', 'cpu', 'auto']):\n",
        "    \"\"\"Returns test_loss, test_acc\"\"\"\n",
        "    test_loss = 0.0\n",
        "    test_acc = 0.0\n",
        "    correct = 0\n",
        "    total = 0\n",
        "    if device == \"auto\":\n",
        "        device = torch.device(\"cuda\" if torch.cuda.is_available() else \"cpu\")\n",
        "\n",
        "    model = model.to(device)\n",
        "    itr = tqdm(loader, total=len(loader), leave=False)\n",
        "\n",
        "    for inputs, labels in itr:\n",
        "        # Move model's inputs and labels to `device`\n",
        "        inputs, labels = inputs.to(device), labels.to(device)\n",
        "\n",
        "        # Use model's forward pass to generate outputs\n",
        "        outputs = model(inputs)\n",
        "        # print(outputs)\n",
        "        # Calculate model's loss\n",
        "        loss = loss_function(outputs, labels)\n",
        "        test_loss += loss.item()\n",
        "\n",
        "        # Calculate/update model's accuracy\n",
        "        test_acc += (torch.argmax(outputs, 1) == labels.data).float().sum()\n",
        "        total += len(labels.data)\n",
        "\n",
        "        itr.set_description(\"(Eval)\")\n",
        "        itr.set_postfix(\n",
        "            loss=round(loss.item(), 5),\n",
        "            accuracy=round(test_acc.item(), 5),\n",
        "        )\n",
        "    test_acc /= total\n",
        "    print(\"model val accuracy %.2f%%  Loss: %.2f\" % (test_acc.cpu()*100,test_loss))\n",
        "    return test_loss, test_acc\n"
      ]
    },
    {
      "cell_type": "code",
      "execution_count": 21,
      "id": "1bc1edee98f616b5",
      "metadata": {
        "id": "1bc1edee98f616b5"
      },
      "outputs": [],
      "source": [
        "def train_model(\n",
        "        model,\n",
        "        batch_size,\n",
        "        loss_function,\n",
        "        optimizer,\n",
        "        epochs,\n",
        "        train_set,\n",
        "        valid_set,\n",
        "        device: Literal['cuda', 'cpu', 'auto'],\n",
        "):\n",
        "    # print(\"hi\")\n",
        "    if device == \"auto\":\n",
        "        device = torch.device(\"cuda\" if torch.cuda.is_available() else \"cpu\")\n",
        "\n",
        "    train_losses = []\n",
        "    train_accs = []\n",
        "\n",
        "    valid_losses = []\n",
        "    valid_accs = []\n",
        "    # print(\"how\")\n",
        "    # TODO: create dataloaders from datasets\n",
        "    train_loader = DataLoader(train_set, batch_size=batch_size, shuffle=True)\n",
        "    valid_loader = DataLoader(valid_set, batch_size=batch_size, shuffle=False)\n",
        "\n",
        "    model.to(device)\n",
        "    # print(\"are\")\n",
        "    itr = tqdm(train_loader, total=len(train_loader), leave=False)\n",
        "\n",
        "    for epoch in range(epochs):\n",
        "        # print(epoch)\n",
        "        err =0\n",
        "        acc = 0\n",
        "        c = 0\n",
        "        count = 0\n",
        "\n",
        "        for idx, (inputs, labels) in enumerate(itr, start=1):\n",
        "\n",
        "            inputs, labels = inputs.to(device), labels.to(device)\n",
        "            model.train()\n",
        "            outputs = model(inputs)\n",
        "            # print(\"the\")\n",
        "            # Calculate model's loss and update epoch's loss\n",
        "\n",
        "            loss = loss_function(outputs, labels)\n",
        "            optimizer.zero_grad()\n",
        "            loss.backward()  # Backward calculated loss\n",
        "            optimizer.step()  # Step optimizer\n",
        "\n",
        "            acc += (torch.argmax(outputs, 1) == labels.data).float().sum()\n",
        "            count += len(labels.data)\n",
        "            c+=1\n",
        "            err+= loss.cpu()\n",
        "\n",
        "\n",
        "\n",
        "        acc /= count\n",
        "        loss /= c\n",
        "\n",
        "        # itr.set_description(f\"(Training) Epoch [{epoch + 1}/{epochs}]\")\n",
        "        # itr.set_postfix(\n",
        "        #   loss=round(loss.item(), 5),\n",
        "        #   accuracy=round(acc, 5),\n",
        "        #   )\n",
        "        print(f\"Epoch %d: model train accuracy %.2f%% Loss: %.2f\" % (epoch, acc.cpu()*100,loss.cpu()))\n",
        "\n",
        "\n",
        "        model.eval()\n",
        "        valid_loss, valid_acc = model_eval(\n",
        "            model=model,\n",
        "            loader=valid_loader,\n",
        "            loss_function=loss_function,\n",
        "            device=device\n",
        "            )\n",
        "\n",
        "        # TODO: update statistics regaurding model's loss and acc in training or validation phases\n",
        "        train_losses.append(loss)\n",
        "        train_accs.append(acc)\n",
        "        valid_losses.append(valid_loss)\n",
        "        valid_accs.append(valid_acc)\n",
        "    history = {\n",
        "      \"train_loss\": train_losses,\n",
        "      \"train_acc\": train_accs,\n",
        "\n",
        "      \"valid_loss\": valid_losses,\n",
        "      \"valid_acc\": valid_accs,\n",
        "    }\n",
        "    return history"
      ]
    },
    {
      "cell_type": "code",
      "execution_count": 22,
      "id": "6e5acc20a7d5d446",
      "metadata": {
        "id": "6e5acc20a7d5d446"
      },
      "outputs": [],
      "source": [
        "def trend_plot_helper(pobj):\n",
        "    plt.figure(figsize=(5*len(pobj), 5))\n",
        "    for idx, (titler, plots) in enumerate(pobj.items(), start=1):\n",
        "        plt.subplot(1, len(pobj), idx)\n",
        "        for label, trend in plots:\n",
        "            plt.plot(range(1, len(trend)+1), trend, label=label)\n",
        "        yt, xt = titler.split(' - ')\n",
        "        plt.xlabel(xt)\n",
        "        plt.ylabel(yt)\n",
        "        plt.legend()\n",
        "\n",
        "\n"
      ]
    },
    {
      "cell_type": "code",
      "execution_count": 23,
      "id": "819f88c36492de48",
      "metadata": {
        "id": "819f88c36492de48"
      },
      "outputs": [],
      "source": [
        "@torch.no_grad()\n",
        "def generate_confusion_matrix(model, dataset, device='auto'):\n",
        "    if device == 'auto':\n",
        "        device = torch.device(\"cuda\" if torch.cuda.is_available() else \"cpu\")\n",
        "    model = model.to(device)\n",
        "\n",
        "    loader = DataLoader(dataset, batch_size=32, shuffle=False)\n",
        "    itr = tqdm(loader, leave=False, desc=\"Generate data\")\n",
        "\n",
        "    # TODO: code here, you must fill variables below\n",
        "    all_labels = []\n",
        "    all_predicted = []\n",
        "\n",
        "    for inputs, labels in itr:\n",
        "        inputs, labels = inputs.to(device), labels.to(device)\n",
        "        outputs = model(inputs)\n",
        "        _, predicted = torch.max(outputs, 1)\n",
        "        all_labels.extend(labels.cpu().numpy())\n",
        "        all_predicted.extend(predicted.cpu().numpy())\n",
        "\n",
        "    labels = all_labels\n",
        "    predicted = all_predicted\n",
        "\n",
        "    cm = metrics.confusion_matrix(\n",
        "        y_true=labels,\n",
        "        y_pred=predicted,\n",
        "    )\n",
        "\n",
        "    plt.figure(figsize=(10,10))\n",
        "    sns.heatmap(cm, cmap='Blues', annot=True, cbar=False, fmt=\".0f\",)\n",
        "    plt.xlabel('Predicted Label', labelpad=20)\n",
        "    plt.ylabel('True Label', labelpad=20)\n",
        "    plt.title('Confusion Matrix', fontsize=30)\n",
        "\n",
        "    recall = metrics.recall_score(y_true=labels, y_pred=predicted, average='macro')\n",
        "    f1 = metrics.f1_score(y_true=labels, y_pred=predicted, average='macro')\n",
        "    precision = metrics.precision_score(y_true=labels, y_pred=predicted, average='macro')\n",
        "    report = metrics.classification_report(y_true=labels, y_pred=predicted)\n",
        "\n",
        "    return {'recall': recall, 'f1': f1, 'precision': precision, 'report': report}\n"
      ]
    },
    {
      "cell_type": "markdown",
      "id": "1566b2a8428318c8",
      "metadata": {
        "collapsed": false,
        "id": "1566b2a8428318c8"
      },
      "source": [
        "## Model's Network"
      ]
    },
    {
      "cell_type": "code",
      "execution_count": 28,
      "id": "a2ed27ccf8d0307c",
      "metadata": {
        "id": "a2ed27ccf8d0307c"
      },
      "outputs": [],
      "source": [
        "import torch.nn as nn\n",
        "import torch.nn.functional as F\n",
        "\n",
        "class CNN(nn.Module):\n",
        "    def __init__(self): # TODO: define your args here\n",
        "        super(CNN, self).__init__()\n",
        "        # print(\"hey\")\n",
        "        self.layers = nn.Sequential(*[\n",
        "        nn.Conv1d(in_channels=300, out_channels=64, kernel_size=3),\n",
        "        nn.Conv1d(in_channels=64, out_channels=64, kernel_size=5),\n",
        "        nn.Conv1d(in_channels=64, out_channels=64, kernel_size=7),\n",
        "        nn.Conv1d(in_channels=64, out_channels=128, kernel_size=3),\n",
        "        nn.Conv1d(in_channels=128, out_channels=128, kernel_size=5),\n",
        "        nn.Conv1d(in_channels=128, out_channels=128, kernel_size=7)\n",
        "        ])\n",
        "        self.flatten = nn.Flatten()\n",
        "        self.fc1 = nn.Linear(5120, 128)  # Output size after conv1d layer\n",
        "        self.fc2 = nn.Linear(128, 2)\n",
        "    def forward(self, x):\n",
        "\n",
        "        for layer in self.layers:\n",
        "          x = layer(x)\n",
        "\n",
        "        x = self.flatten(x)\n",
        "\n",
        "        x = F.relu(self.fc1(x))\n",
        "        x = self.fc2(x)\n",
        "        x = F.softmax(x, dim=1)  # Softmax for classification\n",
        "        return x\n",
        "\n",
        "\n",
        "\n"
      ]
    },
    {
      "cell_type": "markdown",
      "id": "-XhOZ_qwF6Bh",
      "metadata": {
        "id": "-XhOZ_qwF6Bh"
      },
      "source": [
        "## Training"
      ]
    },
    {
      "cell_type": "code",
      "execution_count": 25,
      "id": "76d30ba6554b6c48",
      "metadata": {
        "id": "76d30ba6554b6c48"
      },
      "outputs": [],
      "source": [
        "import torch\n",
        "from torch import nn, optim\n",
        "from torch.utils.data import DataLoader, TensorDataset\n",
        "from sklearn.metrics import classification_report\n",
        "\n",
        "# Convert NumPy arrays to PyTorch tensors\n",
        "X_train_tensor = torch.tensor(X_train_reshaped, dtype=torch.float32)\n",
        "y_train_tensor = torch.tensor(y_train, dtype=torch.long)\n",
        "X_test_tensor = torch.tensor(X_test_reshaped, dtype=torch.float32)\n",
        "y_test_tensor = torch.tensor(y_test, dtype=torch.long)\n",
        "\n",
        "# Create PyTorch datasets\n",
        "train_set = TensorDataset(X_train_tensor, y_train_tensor)\n",
        "test_set = TensorDataset(X_test_tensor, y_test_tensor)\n",
        "\n",
        "\n"
      ]
    },
    {
      "cell_type": "code",
      "source": [
        "print(X_train_tensor.shape)"
      ],
      "metadata": {
        "colab": {
          "base_uri": "https://localhost:8080/"
        },
        "id": "h2EamTKdDFIs",
        "outputId": "57fd5d0a-02b3-4e42-a2dd-ec332fa660cb"
      },
      "id": "h2EamTKdDFIs",
      "execution_count": null,
      "outputs": [
        {
          "output_type": "stream",
          "name": "stdout",
          "text": [
            "torch.Size([7270, 300, 64])\n"
          ]
        }
      ]
    },
    {
      "cell_type": "code",
      "execution_count": null,
      "id": "gpsFln2B1Ynb",
      "metadata": {
        "id": "gpsFln2B1Ynb",
        "colab": {
          "base_uri": "https://localhost:8080/"
        },
        "outputId": "aee7465e-2cf8-4fba-ccf6-86e6aad35fdc"
      },
      "outputs": [
        {
          "output_type": "stream",
          "name": "stdout",
          "text": [
            "torch.Size([300, 64])\n"
          ]
        }
      ],
      "source": [
        "print(train_set[0][0].shape)"
      ]
    },
    {
      "cell_type": "markdown",
      "source": [
        "# Train with 32 batch size and 0.001 lr"
      ],
      "metadata": {
        "id": "M_fN5eRx68vW"
      },
      "id": "M_fN5eRx68vW"
    },
    {
      "cell_type": "code",
      "execution_count": null,
      "id": "a57ddcb0836683ec",
      "metadata": {
        "colab": {
          "base_uri": "https://localhost:8080/"
        },
        "id": "a57ddcb0836683ec",
        "outputId": "7160b2fb-c87f-4a44-8d1a-c990faea1481"
      },
      "outputs": [
        {
          "output_type": "stream",
          "name": "stderr",
          "text": []
        },
        {
          "output_type": "stream",
          "name": "stdout",
          "text": [
            "Epoch 0: model train accuracy 79.50% Loss: 0.00\n"
          ]
        },
        {
          "output_type": "stream",
          "name": "stderr",
          "text": []
        },
        {
          "output_type": "stream",
          "name": "stdout",
          "text": [
            "model val accuracy 83.94%  Loss: 27.00\n",
            "Epoch 1: model train accuracy 82.24% Loss: 0.00\n"
          ]
        },
        {
          "output_type": "stream",
          "name": "stderr",
          "text": []
        },
        {
          "output_type": "stream",
          "name": "stdout",
          "text": [
            "model val accuracy 81.08%  Loss: 28.64\n",
            "Epoch 2: model train accuracy 79.97% Loss: 0.00\n"
          ]
        },
        {
          "output_type": "stream",
          "name": "stderr",
          "text": []
        },
        {
          "output_type": "stream",
          "name": "stdout",
          "text": [
            "model val accuracy 80.53%  Loss: 28.96\n",
            "Epoch 3: model train accuracy 79.99% Loss: 0.00\n"
          ]
        },
        {
          "output_type": "stream",
          "name": "stderr",
          "text": []
        },
        {
          "output_type": "stream",
          "name": "stdout",
          "text": [
            "model val accuracy 80.53%  Loss: 28.96\n",
            "Epoch 4: model train accuracy 79.99% Loss: 0.00\n"
          ]
        },
        {
          "output_type": "stream",
          "name": "stderr",
          "text": [
            "                                               "
          ]
        },
        {
          "output_type": "stream",
          "name": "stdout",
          "text": [
            "model val accuracy 80.53%  Loss: 28.96\n"
          ]
        },
        {
          "output_type": "stream",
          "name": "stderr",
          "text": [
            "\r"
          ]
        }
      ],
      "source": [
        "model = CNN()\n",
        "# Define the loss function and optimizer\n",
        "loss_function = nn.CrossEntropyLoss()\n",
        "optimizer = optim.Adam(model.parameters(), lr=0.001)\n",
        "\n",
        "# Call the train_model function\n",
        "history1 = train_model(\n",
        "    model=model,\n",
        "    batch_size=32,\n",
        "    loss_function=loss_function,\n",
        "    optimizer=optimizer,\n",
        "    epochs=5,\n",
        "    train_set=train_set,\n",
        "    valid_set=test_set,\n",
        "    device='auto'  # Automatically select 'cuda' if available, otherwise 'cpu'\n",
        ")\n",
        "\n"
      ]
    },
    {
      "cell_type": "markdown",
      "source": [
        "#Train with 8 batch size and 0.00001 lr"
      ],
      "metadata": {
        "id": "djYztH1C7LTr"
      },
      "id": "djYztH1C7LTr"
    },
    {
      "cell_type": "markdown",
      "source": [
        "Here as we were regularly stuck in local optimum, we changed the model to have glorot initialization for each layer. The reason why we decreased learning rate that much(from 0.001 to 0.00001) lies behind the fact that in the first epoch when the weights were initilizied the model performed well but after the first epoch the model performed poorly just beacuse the high learning rate made the model to jump out of the optimum solution. In other words, it made the model get stuck in a near local optimum."
      ],
      "metadata": {
        "id": "ty6xd7NXAQhc"
      },
      "id": "ty6xd7NXAQhc"
    },
    {
      "cell_type": "code",
      "source": [
        "class CNN_glorot(nn.Module):\n",
        "    def __init__(self): # TODO: define your args here\n",
        "        super(CNN_glorot, self).__init__()\n",
        "        self.layers = nn.Sequential(\n",
        "            nn.Conv1d(in_channels=300, out_channels=64, kernel_size=3),\n",
        "            nn.Conv1d(in_channels=64, out_channels=64, kernel_size=5),\n",
        "            nn.Conv1d(in_channels=64, out_channels=64, kernel_size=7),\n",
        "            nn.Conv1d(in_channels=64, out_channels=128, kernel_size=3),\n",
        "            nn.Conv1d(in_channels=128, out_channels=128, kernel_size=5),\n",
        "            nn.Conv1d(in_channels=128, out_channels=128, kernel_size=7)\n",
        "        )\n",
        "        self.flatten = nn.Flatten()\n",
        "        self.fc1 = nn.Linear(5120, 128)  # Output size after conv1d layer\n",
        "        self.fc2 = nn.Linear(128, 2)\n",
        "\n",
        "        # Apply Glorot initialization\n",
        "        self._initialize_weights()\n",
        "\n",
        "    def _initialize_weights(self):\n",
        "        for layer in self.layers:\n",
        "            if isinstance(layer, nn.Conv1d):\n",
        "                nn.init.xavier_uniform_(layer.weight)\n",
        "                if layer.bias is not None:\n",
        "                    nn.init.zeros_(layer.bias)\n",
        "        nn.init.xavier_uniform_(self.fc1.weight)\n",
        "        nn.init.zeros_(self.fc1.bias)\n",
        "        nn.init.xavier_uniform_(self.fc2.weight)\n",
        "        nn.init.zeros_(self.fc2.bias)\n",
        "\n",
        "    def forward(self, x):\n",
        "        x = self.layers(x)\n",
        "        x = self.flatten(x)\n",
        "        x = F.relu(self.fc1(x))\n",
        "        x = self.fc2(x)\n",
        "        x = F.softmax(x, dim=1)  # Softmax for classification\n",
        "        return x"
      ],
      "metadata": {
        "id": "rdcR6BJ7_izt"
      },
      "id": "rdcR6BJ7_izt",
      "execution_count": 32,
      "outputs": []
    },
    {
      "cell_type": "code",
      "source": [
        "model3 = CNN_glorot()\n",
        "# Define the loss function and optimizer\n",
        "loss_function = nn.CrossEntropyLoss()\n",
        "optimizer = optim.Adam(model3.parameters(), lr=0.00001)\n",
        "\n",
        "# Call the train_model function\n",
        "history3 = train_model(\n",
        "    model=model3,\n",
        "    batch_size=8,\n",
        "    loss_function=loss_function,\n",
        "    optimizer=optimizer,\n",
        "    epochs=5,\n",
        "    train_set=train_set,\n",
        "    valid_set=test_set,\n",
        "    device='auto'  # Automatically select 'cuda' if available, otherwise 'cpu'\n",
        ")\n"
      ],
      "metadata": {
        "colab": {
          "base_uri": "https://localhost:8080/"
        },
        "id": "CIJncfu167oj",
        "outputId": "e835fc4a-476b-4159-ac48-a9d994613cfd"
      },
      "id": "CIJncfu167oj",
      "execution_count": 34,
      "outputs": [
        {
          "output_type": "stream",
          "name": "stderr",
          "text": []
        },
        {
          "output_type": "stream",
          "name": "stdout",
          "text": [
            "Epoch 0: model train accuracy 83.25% Loss: 0.00\n"
          ]
        },
        {
          "output_type": "stream",
          "name": "stderr",
          "text": []
        },
        {
          "output_type": "stream",
          "name": "stdout",
          "text": [
            "model val accuracy 86.63%  Loss: 101.41\n",
            "Epoch 1: model train accuracy 86.19% Loss: 0.00\n"
          ]
        },
        {
          "output_type": "stream",
          "name": "stderr",
          "text": []
        },
        {
          "output_type": "stream",
          "name": "stdout",
          "text": [
            "model val accuracy 88.06%  Loss: 98.27\n",
            "Epoch 2: model train accuracy 87.51% Loss: 0.00\n"
          ]
        },
        {
          "output_type": "stream",
          "name": "stderr",
          "text": []
        },
        {
          "output_type": "stream",
          "name": "stdout",
          "text": [
            "model val accuracy 88.17%  Loss: 97.40\n",
            "Epoch 3: model train accuracy 88.25% Loss: 0.00\n"
          ]
        },
        {
          "output_type": "stream",
          "name": "stderr",
          "text": []
        },
        {
          "output_type": "stream",
          "name": "stdout",
          "text": [
            "model val accuracy 88.45%  Loss: 96.94\n",
            "Epoch 4: model train accuracy 88.58% Loss: 0.00\n"
          ]
        },
        {
          "output_type": "stream",
          "name": "stderr",
          "text": []
        },
        {
          "output_type": "stream",
          "name": "stdout",
          "text": [
            "model val accuracy 88.56%  Loss: 96.53\n"
          ]
        }
      ]
    },
    {
      "cell_type": "markdown",
      "source": [
        "#Train with 32 batch size and 0.00001 lr"
      ],
      "metadata": {
        "id": "cmF0QtIlDDpG"
      },
      "id": "cmF0QtIlDDpG"
    },
    {
      "cell_type": "code",
      "source": [
        "model4 = CNN()\n",
        "# Define the loss function and optimizer\n",
        "loss_function = nn.CrossEntropyLoss()\n",
        "optimizer = optim.Adam(model4.parameters(), lr=0.00001)\n",
        "\n",
        "# Call the train_model function\n",
        "history4 = train_model(\n",
        "    model=model4,\n",
        "    batch_size=32,\n",
        "    loss_function=loss_function,\n",
        "    optimizer=optimizer,\n",
        "    epochs=5,\n",
        "    train_set=train_set,\n",
        "    valid_set=test_set,\n",
        "    device='auto'  # Automatically select 'cuda' if available, otherwise 'cpu'\n",
        ")"
      ],
      "metadata": {
        "colab": {
          "base_uri": "https://localhost:8080/"
        },
        "id": "2qFMkvTkDHjo",
        "outputId": "09737788-71d8-4ee0-dd3b-6aae8ee2a59b"
      },
      "id": "2qFMkvTkDHjo",
      "execution_count": 39,
      "outputs": [
        {
          "output_type": "stream",
          "name": "stderr",
          "text": []
        },
        {
          "output_type": "stream",
          "name": "stdout",
          "text": [
            "Epoch 0: model train accuracy 70.32% Loss: 0.00\n"
          ]
        },
        {
          "output_type": "stream",
          "name": "stderr",
          "text": []
        },
        {
          "output_type": "stream",
          "name": "stdout",
          "text": [
            "model val accuracy 85.09%  Loss: 26.49\n",
            "Epoch 1: model train accuracy 84.51% Loss: 0.00\n"
          ]
        },
        {
          "output_type": "stream",
          "name": "stderr",
          "text": []
        },
        {
          "output_type": "stream",
          "name": "stdout",
          "text": [
            "model val accuracy 86.19%  Loss: 25.57\n",
            "Epoch 2: model train accuracy 85.30% Loss: 0.00\n"
          ]
        },
        {
          "output_type": "stream",
          "name": "stderr",
          "text": []
        },
        {
          "output_type": "stream",
          "name": "stdout",
          "text": [
            "model val accuracy 86.91%  Loss: 25.24\n",
            "Epoch 3: model train accuracy 85.58% Loss: 0.00\n"
          ]
        },
        {
          "output_type": "stream",
          "name": "stderr",
          "text": []
        },
        {
          "output_type": "stream",
          "name": "stdout",
          "text": [
            "model val accuracy 86.74%  Loss: 25.19\n",
            "Epoch 4: model train accuracy 86.12% Loss: 0.00\n"
          ]
        },
        {
          "output_type": "stream",
          "name": "stderr",
          "text": [
            "                                                                                    "
          ]
        },
        {
          "output_type": "stream",
          "name": "stdout",
          "text": [
            "model val accuracy 87.35%  Loss: 24.91\n"
          ]
        },
        {
          "output_type": "stream",
          "name": "stderr",
          "text": [
            "\r"
          ]
        }
      ]
    },
    {
      "cell_type": "markdown",
      "source": [
        "#Evaluation of model with 32 batch size and 0.001 lr"
      ],
      "metadata": {
        "id": "_r8v2yBz79DH"
      },
      "id": "_r8v2yBz79DH"
    },
    {
      "cell_type": "code",
      "execution_count": null,
      "id": "RpFwuu_AtfnW",
      "metadata": {
        "id": "RpFwuu_AtfnW",
        "colab": {
          "base_uri": "https://localhost:8080/"
        },
        "outputId": "ade25151-a12e-4d1e-c660-cbe5ca73b592"
      },
      "outputs": [
        {
          "output_type": "stream",
          "name": "stderr",
          "text": [
            "                                                                                    "
          ]
        },
        {
          "output_type": "stream",
          "name": "stdout",
          "text": [
            "model val accuracy 80.53%  Loss: 28.96\n",
            "Test Loss: 28.961681813001633, Test Accuracy: 0.8052805066108704\n"
          ]
        },
        {
          "output_type": "stream",
          "name": "stderr",
          "text": [
            "\r"
          ]
        }
      ],
      "source": [
        "# Print classification report for the test set\n",
        "test_loader = DataLoader(test_set, batch_size=32)\n",
        "test_loss, test_acc = model_eval(model, test_loader, loss_function, 'auto')\n",
        "print(f\"Test Loss: {test_loss}, Test Accuracy: {test_acc}\")\n"
      ]
    },
    {
      "cell_type": "code",
      "execution_count": null,
      "id": "ac375ced89f224ce",
      "metadata": {
        "id": "ac375ced89f224ce",
        "colab": {
          "base_uri": "https://localhost:8080/",
          "height": 521
        },
        "outputId": "b9456273-0fe3-434c-ad5d-705078f43c22"
      },
      "outputs": [
        {
          "output_type": "stream",
          "name": "stdout",
          "text": [
            "[tensor(0.0028, grad_fn=<DivBackward0>), tensor(0.0014, grad_fn=<DivBackward0>), tensor(0.0028, grad_fn=<DivBackward0>), tensor(0.0021, grad_fn=<DivBackward0>), tensor(0.0014, grad_fn=<DivBackward0>)]\n",
            "[0.0028359433636069298, 0.0013739545829594135, 0.0028359428979456425, 0.0021049489732831717, 0.0013739545829594135]\n"
          ]
        },
        {
          "output_type": "display_data",
          "data": {
            "text/plain": [
              "<Figure size 1000x500 with 2 Axes>"
            ],
            "image/png": "[encoded data removed]"
          },
          "metadata": {}
        }
      ],
      "source": [
        "print(history1[\"train_loss\"])\n",
        "train_loss = [tensor.item() for tensor in history1[\"train_loss\"]]\n",
        "print(train_loss)\n",
        "\n",
        "trend_plot_helper(\n",
        "    {\n",
        "        \"Accuracy - Epoch\": [\n",
        "            (\"Train Acc\", history1[\"train_acc\"]),\n",
        "            (\"Validation Acc\", history1[\"valid_acc\"]),\n",
        "        ],\n",
        "        \"Loss - Epoch\": [\n",
        "            (\"Train Loss\", train_loss),\n",
        "            (\"Validation Loss\", history1[\"valid_loss\"])\n",
        "        ]\n",
        "    }\n",
        ")"
      ]
    },
    {
      "cell_type": "code",
      "execution_count": null,
      "id": "a09473d5783fa70f",
      "metadata": {
        "id": "a09473d5783fa70f",
        "colab": {
          "base_uri": "https://localhost:8080/",
          "height": 914
        },
        "outputId": "fa1d00f2-5ec6-43e4-be6d-0be796a40f98"
      },
      "outputs": [
        {
          "output_type": "stream",
          "name": "stderr",
          "text": []
        },
        {
          "output_type": "display_data",
          "data": {
            "text/plain": [
              "<Figure size 1000x1000 with 1 Axes>"
            ],
            "image/png": "[encoded data removed]"
          },
          "metadata": {}
        }
      ],
      "source": [
        "cnn_model_report = generate_confusion_matrix(\n",
        "    model=model,\n",
        "    dataset=test_set,\n",
        ")"
      ]
    },
    {
      "cell_type": "code",
      "execution_count": null,
      "id": "8ee01e4607601dd8",
      "metadata": {
        "id": "8ee01e4607601dd8",
        "colab": {
          "base_uri": "https://localhost:8080/"
        },
        "outputId": "56032cf4-1a85-4102-8cdd-7a067138e3f0"
      },
      "outputs": [
        {
          "output_type": "stream",
          "name": "stdout",
          "text": [
            "Recall:    0.809\n",
            "F1:        0.805\n",
            "Precision: 0.805\n",
            "              precision    recall  f1-score   support\n",
            "\n",
            "           0       0.86      0.78      0.82      1011\n",
            "           1       0.75      0.84      0.79       807\n",
            "\n",
            "    accuracy                           0.81      1818\n",
            "   macro avg       0.80      0.81      0.80      1818\n",
            "weighted avg       0.81      0.81      0.81      1818\n",
            "\n"
          ]
        }
      ],
      "source": [
        "print(f\"Recall:    {cnn_model_report['recall']:.3f}\")\n",
        "print(f\"F1:        {cnn_model_report['f1']:.3f}\")\n",
        "print(f\"Precision: {cnn_model_report['precision']:.3f}\")\n",
        "print(cnn_model_report['report'])"
      ]
    },
    {
      "cell_type": "markdown",
      "source": [
        "#Evaluation of model with 8 batch size and 0.00001 lr (glorot initialization)"
      ],
      "metadata": {
        "id": "U9qQKkZt8DGG"
      },
      "id": "U9qQKkZt8DGG"
    },
    {
      "cell_type": "code",
      "source": [
        "# Print classification report for the test set\n",
        "test_loader = DataLoader(test_set, batch_size=8)\n",
        "test_loss, test_acc = model_eval(model3, test_loader, loss_function, 'auto')\n",
        "print(f\"Test Loss: {test_loss}, Test Accuracy: {test_acc}\")\n"
      ],
      "metadata": {
        "colab": {
          "base_uri": "https://localhost:8080/"
        },
        "id": "pPmGSlwZ8IoR",
        "outputId": "92b2318f-2faa-4b62-a3c9-a68065ff8480"
      },
      "id": "pPmGSlwZ8IoR",
      "execution_count": 35,
      "outputs": [
        {
          "output_type": "stream",
          "name": "stderr",
          "text": [
            "                                                                                      "
          ]
        },
        {
          "output_type": "stream",
          "name": "stdout",
          "text": [
            "model val accuracy 88.56%  Loss: 96.53\n",
            "Test Loss: 96.52771756052971, Test Accuracy: 0.8855885863304138\n"
          ]
        },
        {
          "output_type": "stream",
          "name": "stderr",
          "text": [
            "\r"
          ]
        }
      ]
    },
    {
      "cell_type": "code",
      "source": [
        "print(history3[\"train_loss\"])\n",
        "train_loss = [tensor.item() for tensor in history3[\"train_loss\"]]\n",
        "print(train_loss)\n",
        "\n",
        "trend_plot_helper(\n",
        "    {\n",
        "        \"Accuracy - Epoch\": [\n",
        "            (\"Train Acc\", history3[\"train_acc\"]),\n",
        "            (\"Validation Acc\", history3[\"valid_acc\"]),\n",
        "        ],\n",
        "        \"Loss - Epoch\": [\n",
        "            (\"Train Loss\", train_loss),\n",
        "            (\"Validation Loss\", history3[\"valid_loss\"])\n",
        "        ]\n",
        "    }\n",
        ")"
      ],
      "metadata": {
        "colab": {
          "base_uri": "https://localhost:8080/",
          "height": 521
        },
        "id": "bB4SvywU8PFy",
        "outputId": "6a8102af-6c78-432d-ac02-ea803f78b6db"
      },
      "id": "bB4SvywU8PFy",
      "execution_count": 36,
      "outputs": [
        {
          "output_type": "stream",
          "name": "stdout",
          "text": [
            "[tensor(0.0006, grad_fn=<DivBackward0>), tensor(0.0005, grad_fn=<DivBackward0>), tensor(0.0005, grad_fn=<DivBackward0>), tensor(0.0004, grad_fn=<DivBackward0>), tensor(0.0005, grad_fn=<DivBackward0>)]\n",
            "[0.0006311634788289666, 0.0005278204334899783, 0.0005277867312543094, 0.00037999151390977204, 0.000532846141140908]\n"
          ]
        },
        {
          "output_type": "display_data",
          "data": {
            "text/plain": [
              "<Figure size 1000x500 with 2 Axes>"
            ],
            "image/png": "[encoded data removed]"
          },
          "metadata": {}
        }
      ]
    },
    {
      "cell_type": "code",
      "source": [
        "cnn_model_report = generate_confusion_matrix(\n",
        "    model=model3,\n",
        "    dataset=test_set,\n",
        ")"
      ],
      "metadata": {
        "colab": {
          "base_uri": "https://localhost:8080/",
          "height": 914
        },
        "id": "acF1kdTZ8zGP",
        "outputId": "31444505-3bb7-4500-9e0f-6d8e9eda72b4"
      },
      "id": "acF1kdTZ8zGP",
      "execution_count": 37,
      "outputs": [
        {
          "output_type": "stream",
          "name": "stderr",
          "text": []
        },
        {
          "output_type": "display_data",
          "data": {
            "text/plain": [
              "<Figure size 1000x1000 with 1 Axes>"
            ],
            "image/png": "[encoded data removed]"
          },
          "metadata": {}
        }
      ]
    },
    {
      "cell_type": "code",
      "source": [
        "print(f\"Recall:    {cnn_model_report['recall']:.3f}\")\n",
        "print(f\"F1:        {cnn_model_report['f1']:.3f}\")\n",
        "print(f\"Precision: {cnn_model_report['precision']:.3f}\")\n",
        "print(cnn_model_report['report'])"
      ],
      "metadata": {
        "colab": {
          "base_uri": "https://localhost:8080/"
        },
        "id": "fU7HSps181rU",
        "outputId": "7096e945-c90b-4579-f251-d4f98f978ebc"
      },
      "id": "fU7HSps181rU",
      "execution_count": 38,
      "outputs": [
        {
          "output_type": "stream",
          "name": "stdout",
          "text": [
            "Recall:    0.875\n",
            "F1:        0.881\n",
            "Precision: 0.900\n",
            "              precision    recall  f1-score   support\n",
            "\n",
            "           0       0.85      0.97      0.90      1011\n",
            "           1       0.95      0.78      0.86       807\n",
            "\n",
            "    accuracy                           0.89      1818\n",
            "   macro avg       0.90      0.88      0.88      1818\n",
            "weighted avg       0.89      0.89      0.88      1818\n",
            "\n"
          ]
        }
      ]
    },
    {
      "cell_type": "markdown",
      "source": [
        "# Evaluation of model with 32 batch size and 0.00001 lr"
      ],
      "metadata": {
        "id": "LJEnArXaDgKH"
      },
      "id": "LJEnArXaDgKH"
    },
    {
      "cell_type": "code",
      "source": [
        "# Print classification report for the test set\n",
        "test_loader = DataLoader(test_set, batch_size=32)\n",
        "test_loss, test_acc = model_eval(model4, test_loader, loss_function, 'auto')\n",
        "print(f\"Test Loss: {test_loss}, Test Accuracy: {test_acc}\")"
      ],
      "metadata": {
        "colab": {
          "base_uri": "https://localhost:8080/"
        },
        "id": "0aL1GGAnDyvK",
        "outputId": "656da326-dd9a-44d7-996f-c23254e86580"
      },
      "id": "0aL1GGAnDyvK",
      "execution_count": 40,
      "outputs": [
        {
          "output_type": "stream",
          "name": "stderr",
          "text": [
            "                                                                                    "
          ]
        },
        {
          "output_type": "stream",
          "name": "stdout",
          "text": [
            "model val accuracy 87.35%  Loss: 24.91\n",
            "Test Loss: 24.910677939653397, Test Accuracy: 0.8734873533248901\n"
          ]
        },
        {
          "output_type": "stream",
          "name": "stderr",
          "text": [
            "\r"
          ]
        }
      ]
    },
    {
      "cell_type": "code",
      "source": [
        "print(history4[\"train_loss\"])\n",
        "train_loss = [tensor.item() for tensor in history4[\"train_loss\"]]\n",
        "print(train_loss)\n",
        "\n",
        "trend_plot_helper(\n",
        "    {\n",
        "        \"Accuracy - Epoch\": [\n",
        "            (\"Train Acc\", history4[\"train_acc\"]),\n",
        "            (\"Validation Acc\", history4[\"valid_acc\"]),\n",
        "        ],\n",
        "        \"Loss - Epoch\": [\n",
        "            (\"Train Loss\", train_loss),\n",
        "            (\"Validation Loss\", history4[\"valid_loss\"])\n",
        "        ]\n",
        "    }\n",
        ")"
      ],
      "metadata": {
        "colab": {
          "base_uri": "https://localhost:8080/",
          "height": 521
        },
        "id": "Ptr-1PweD5Bu",
        "outputId": "59a51199-f042-41df-b880-4a4334795629"
      },
      "id": "Ptr-1PweD5Bu",
      "execution_count": 41,
      "outputs": [
        {
          "output_type": "stream",
          "name": "stdout",
          "text": [
            "[tensor(0.0020, grad_fn=<DivBackward0>), tensor(0.0021, grad_fn=<DivBackward0>), tensor(0.0017, grad_fn=<DivBackward0>), tensor(0.0014, grad_fn=<DivBackward0>), tensor(0.0018, grad_fn=<DivBackward0>)]\n",
            "[0.0019808276556432247, 0.0020851069130003452, 0.0017128493636846542, 0.0013763851020485163, 0.0017520105466246605]\n"
          ]
        },
        {
          "output_type": "display_data",
          "data": {
            "text/plain": [
              "<Figure size 1000x500 with 2 Axes>"
            ],
            "image/png": "[encoded data removed]"
          },
          "metadata": {}
        }
      ]
    },
    {
      "cell_type": "code",
      "source": [
        "cnn_model_report = generate_confusion_matrix(\n",
        "    model=model4,\n",
        "    dataset=test_set,\n",
        ")"
      ],
      "metadata": {
        "colab": {
          "base_uri": "https://localhost:8080/",
          "height": 914
        },
        "id": "4beTnW2WENyr",
        "outputId": "7cd6500d-66e8-46e4-e148-2eec802d75d4"
      },
      "id": "4beTnW2WENyr",
      "execution_count": 42,
      "outputs": [
        {
          "output_type": "stream",
          "name": "stderr",
          "text": []
        },
        {
          "output_type": "display_data",
          "data": {
            "text/plain": [
              "<Figure size 1000x1000 with 1 Axes>"
            ],
            "image/png": "[encoded data removed]"
          },
          "metadata": {}
        }
      ]
    },
    {
      "cell_type": "code",
      "source": [
        "print(f\"Recall:    {cnn_model_report['recall']:.3f}\")\n",
        "print(f\"F1:        {cnn_model_report['f1']:.3f}\")\n",
        "print(f\"Precision: {cnn_model_report['precision']:.3f}\")\n",
        "print(cnn_model_report['report'])"
      ],
      "metadata": {
        "colab": {
          "base_uri": "https://localhost:8080/"
        },
        "id": "qmBwejP7ERel",
        "outputId": "7c6ce465-bb4e-449f-dd76-0a401948e7c6"
      },
      "id": "qmBwejP7ERel",
      "execution_count": 43,
      "outputs": [
        {
          "output_type": "stream",
          "name": "stdout",
          "text": [
            "Recall:    0.859\n",
            "F1:        0.867\n",
            "Precision: 0.898\n",
            "              precision    recall  f1-score   support\n",
            "\n",
            "           0       0.82      0.98      0.90      1011\n",
            "           1       0.97      0.73      0.84       807\n",
            "\n",
            "    accuracy                           0.87      1818\n",
            "   macro avg       0.90      0.86      0.87      1818\n",
            "weighted avg       0.89      0.87      0.87      1818\n",
            "\n"
          ]
        }
      ]
    },
    {
      "cell_type": "markdown",
      "source": [
        "# Changing the sequence length from 64 to 196 section 3"
      ],
      "metadata": {
        "id": "78aUrf71nw05"
      },
      "id": "78aUrf71nw05"
    },
    {
      "cell_type": "markdown",
      "source": [
        "<font color='red'>1.</font>\n",
        "\n",
        "Memory Usage: Larger context windows require more memory to store and process the additional information, which can be a significant constraint for long documents or resource-limited environments.\n",
        "\n",
        "Processing Time: More data to process means longer processing times, which can slow down the training and inference phases of the model.\n",
        "\n",
        "Improved Disambiguation: Larger context windows allow models to better understand the meaning of ambiguous words by considering more surrounding text.\n",
        "\n",
        "Contextual Coherence: Understanding the broader context helps in maintaining coherence in tasks like text generation and translation, leading to more accurate and relevant outputs."
      ],
      "metadata": {
        "id": "TNrxdXUJGrmr"
      },
      "id": "TNrxdXUJGrmr"
    },
    {
      "cell_type": "markdown",
      "source": [
        "<font color='red'>2.</font>"
      ],
      "metadata": {
        "id": "3yWJqCwxIk-u"
      },
      "id": "3yWJqCwxIk-u"
    },
    {
      "cell_type": "code",
      "source": [
        "sequence_len = 196\n",
        "\n",
        "# Initialize the Twitter dataset\n",
        "dataset2 = Twitter(df, w2v_model, sequence_len)\n",
        "dataset2.seq_report()"
      ],
      "metadata": {
        "colab": {
          "base_uri": "https://localhost:8080/"
        },
        "id": "mclkCCnBn3Q3",
        "outputId": "02ddb1fd-bef1-4a23-9be3-3e78cda183f5"
      },
      "id": "mclkCCnBn3Q3",
      "execution_count": 51,
      "outputs": [
        {
          "output_type": "stream",
          "name": "stdout",
          "text": [
            "Deleted 0-Len Samples: 31\n"
          ]
        },
        {
          "output_type": "stream",
          "name": "stderr",
          "text": [
            "<ipython-input-14-3c869faa1126>:35: SettingWithCopyWarning: \n",
            "A value is trying to be set on a copy of a slice from a DataFrame.\n",
            "Try using .loc[row_indexer,col_indexer] = value instead\n",
            "\n",
            "See the caveats in the documentation: https://pandas.pydata.org/pandas-docs/stable/user_guide/indexing.html#returning-a-view-versus-a-copy\n",
            "  self.dataframe[self.df_token_col] = self.dataframe[self.df_token_col].map(self._pad)\n",
            "<ipython-input-14-3c869faa1126>:38: SettingWithCopyWarning: \n",
            "A value is trying to be set on a copy of a slice from a DataFrame.\n",
            "Try using .loc[row_indexer,col_indexer] = value instead\n",
            "\n",
            "See the caveats in the documentation: https://pandas.pydata.org/pandas-docs/stable/user_guide/indexing.html#returning-a-view-versus-a-copy\n",
            "  self.dataframe[\"vector\"] = self.dataframe[self.df_token_col].map(self._get_word_vectors)\n"
          ]
        },
        {
          "output_type": "stream",
          "name": "stdout",
          "text": [
            "Sequence Length Report\n",
            ":::::MAX  LENGTH:::[ 196 ]\n",
            ":::::MIN  LENGTH:::[ 196 ]\n",
            ":::::MEAN LENGTH:::[196.0]\n",
            "Sequence Tokenization Report\n",
            ":::::All Unique Tokens:::[19245 \n",
            ":::::All Valid Tokens:::[12227 \n",
            ":::::Valid Tokens:::[63.53%]\n"
          ]
        }
      ]
    },
    {
      "cell_type": "code",
      "source": [
        "import numpy as np\n",
        "from sklearn.model_selection import train_test_split\n",
        "\n",
        "\n",
        "# Extract features and labels\n",
        "vectors = [item[0] for item in dataset2]\n",
        "intentions = [item[1] for item in dataset2]\n",
        "\n",
        "# Convert lists to numpy arrays\n",
        "vectors = np.array(vectors)\n",
        "intentions = np.array(intentions)\n",
        "\n",
        "# Split the dataset into training and testing sets\n",
        "X_train, X_test, y_train, y_test = train_test_split(vectors, intentions, test_size=0.2, random_state=42)"
      ],
      "metadata": {
        "id": "Y3DRJ2dPoHHN"
      },
      "id": "Y3DRJ2dPoHHN",
      "execution_count": 52,
      "outputs": []
    },
    {
      "cell_type": "code",
      "source": [
        "X_train_reshaped = X_train.transpose(0, 2, 1)  # Permute the dimensions\n",
        "X_test_reshaped = X_test.transpose(0, 2, 1)  # Permute the dimensions"
      ],
      "metadata": {
        "id": "6z5Gpbzqo6pL"
      },
      "id": "6z5Gpbzqo6pL",
      "execution_count": 53,
      "outputs": []
    },
    {
      "cell_type": "code",
      "source": [
        "import torch\n",
        "from torch import nn, optim\n",
        "from torch.utils.data import DataLoader, TensorDataset\n",
        "from sklearn.metrics import classification_report\n",
        "\n",
        "# Convert NumPy arrays to PyTorch tensors\n",
        "X_train_tensor = torch.tensor(X_train_reshaped, dtype=torch.float32)\n",
        "y_train_tensor = torch.tensor(y_train, dtype=torch.long)\n",
        "X_test_tensor = torch.tensor(X_test_reshaped, dtype=torch.float32)\n",
        "y_test_tensor = torch.tensor(y_test, dtype=torch.long)\n",
        "\n",
        "# Create PyTorch datasets\n",
        "train_set = TensorDataset(X_train_tensor, y_train_tensor)\n",
        "test_set = TensorDataset(X_test_tensor, y_test_tensor)\n"
      ],
      "metadata": {
        "id": "t5EWftUspeHO"
      },
      "id": "t5EWftUspeHO",
      "execution_count": 54,
      "outputs": []
    },
    {
      "cell_type": "markdown",
      "source": [
        "<font color='red'>3.</font>"
      ],
      "metadata": {
        "id": "JL6WsJy7IwuD"
      },
      "id": "JL6WsJy7IwuD"
    },
    {
      "cell_type": "code",
      "source": [
        "import torch.nn as nn\n",
        "import torch.nn.functional as F\n",
        "\n",
        "class CNN_196(nn.Module):\n",
        "    def __init__(self): # TODO: define your args here\n",
        "        super(CNN_196, self).__init__()\n",
        "        # print(\"hey\")\n",
        "        self.layers = nn.Sequential(*[\n",
        "        nn.Conv1d(in_channels=300, out_channels=196, kernel_size=3),\n",
        "        nn.Conv1d(in_channels=196, out_channels=64, kernel_size=5),\n",
        "        nn.Conv1d(in_channels=64, out_channels=196, kernel_size=7),\n",
        "        nn.Conv1d(in_channels=196, out_channels=128, kernel_size=3),\n",
        "        nn.Conv1d(in_channels=128, out_channels=128, kernel_size=5),\n",
        "        nn.Conv1d(in_channels=128, out_channels=128, kernel_size=7)\n",
        "        ])\n",
        "\n",
        "        # Apply Glorot initialization to convolutional layers\n",
        "        for name, module in self.layers.named_modules():\n",
        "            if isinstance(module, nn.Conv1d):\n",
        "                nn.init.xavier_uniform_(module.weight)\n",
        "                if module.bias is not None:\n",
        "                    nn.init.zeros_(module.bias)\n",
        "\n",
        "\n",
        "\n",
        "        self.flatten = nn.Flatten()\n",
        "        self.fc1 = nn.Linear(22016, 128)  # Output size after conv1d layer\n",
        "        self.fc2 = nn.Linear(128, 2)\n",
        "\n",
        "        # Apply Glorot initialization to fully connected layers\n",
        "        nn.init.xavier_uniform_(self.fc1.weight)\n",
        "        nn.init.xavier_uniform_(self.fc2.weight)\n",
        "\n",
        "        if self.fc1.bias is not None:\n",
        "            nn.init.zeros_(self.fc1.bias)\n",
        "        if self.fc2.bias is not None:\n",
        "            nn.init.zeros_(self.fc2.bias)\n",
        "\n",
        "\n",
        "    def forward(self, x):\n",
        "\n",
        "        for layer in self.layers:\n",
        "          x = layer(x)\n",
        "\n",
        "        x = self.flatten(x)\n",
        "\n",
        "        x = F.relu(self.fc1(x))\n",
        "        x = self.fc2(x)\n",
        "        x = F.softmax(x, dim=1)  # Softmax for classification\n",
        "        return x\n"
      ],
      "metadata": {
        "id": "CVH7oEF9qtSt"
      },
      "id": "CVH7oEF9qtSt",
      "execution_count": 55,
      "outputs": []
    },
    {
      "cell_type": "code",
      "source": [
        "model2 = CNN_196()\n",
        "# Define the loss function and optimizer\n",
        "loss_function = nn.CrossEntropyLoss()\n",
        "optimizer = optim.Adam(model2.parameters(), lr=0.001)\n",
        "\n",
        "# Call the train_model function\n",
        "history2 = train_model(\n",
        "    model=model2,\n",
        "    batch_size=8,\n",
        "    loss_function=loss_function,\n",
        "    optimizer=optimizer,\n",
        "    epochs=5,\n",
        "    train_set=train_set,\n",
        "    valid_set=test_set,\n",
        "    device='auto'  # Automatically select 'cuda' if available, otherwise 'cpu'\n",
        ")\n"
      ],
      "metadata": {
        "colab": {
          "base_uri": "https://localhost:8080/"
        },
        "id": "3x8tBvrxpip2",
        "outputId": "5ffb30f8-e157-4a9b-fbe2-a263f1294e8d"
      },
      "id": "3x8tBvrxpip2",
      "execution_count": 56,
      "outputs": [
        {
          "output_type": "stream",
          "name": "stderr",
          "text": []
        },
        {
          "output_type": "stream",
          "name": "stdout",
          "text": [
            "Epoch 0: model train accuracy 80.54% Loss: 0.00\n"
          ]
        },
        {
          "output_type": "stream",
          "name": "stderr",
          "text": []
        },
        {
          "output_type": "stream",
          "name": "stdout",
          "text": [
            "model val accuracy 80.69%  Loss: 115.30\n",
            "Epoch 1: model train accuracy 80.66% Loss: 0.00\n"
          ]
        },
        {
          "output_type": "stream",
          "name": "stderr",
          "text": []
        },
        {
          "output_type": "stream",
          "name": "stdout",
          "text": [
            "model val accuracy 80.69%  Loss: 115.30\n",
            "Epoch 2: model train accuracy 80.66% Loss: 0.00\n"
          ]
        },
        {
          "output_type": "stream",
          "name": "stderr",
          "text": []
        },
        {
          "output_type": "stream",
          "name": "stdout",
          "text": [
            "model val accuracy 80.69%  Loss: 115.30\n",
            "Epoch 3: model train accuracy 80.66% Loss: 0.00\n"
          ]
        },
        {
          "output_type": "stream",
          "name": "stderr",
          "text": []
        },
        {
          "output_type": "stream",
          "name": "stdout",
          "text": [
            "model val accuracy 80.69%  Loss: 115.30\n",
            "Epoch 4: model train accuracy 80.66% Loss: 0.00\n"
          ]
        },
        {
          "output_type": "stream",
          "name": "stderr",
          "text": []
        },
        {
          "output_type": "stream",
          "name": "stdout",
          "text": [
            "model val accuracy 80.69%  Loss: 115.30\n"
          ]
        }
      ]
    },
    {
      "cell_type": "code",
      "source": [
        "# Print classification report for the test set\n",
        "test_loader = DataLoader(test_set, batch_size=8)\n",
        "test_loss, test_acc = model_eval(model2, test_loader, loss_function, 'auto')\n",
        "print(f\"Test Loss: {test_loss}, Test Accuracy: {test_acc}\")"
      ],
      "metadata": {
        "colab": {
          "base_uri": "https://localhost:8080/"
        },
        "id": "mSk1DCXOvu6r",
        "outputId": "e4a03411-d448-495d-afc3-b0cbed161750"
      },
      "id": "mSk1DCXOvu6r",
      "execution_count": 57,
      "outputs": [
        {
          "output_type": "stream",
          "name": "stderr",
          "text": [
            "                                                                                      "
          ]
        },
        {
          "output_type": "stream",
          "name": "stdout",
          "text": [
            "model val accuracy 80.69%  Loss: 115.30\n",
            "Test Loss: 115.2986578643322, Test Accuracy: 0.8069307208061218\n"
          ]
        },
        {
          "output_type": "stream",
          "name": "stderr",
          "text": [
            "\r"
          ]
        }
      ]
    },
    {
      "cell_type": "code",
      "source": [
        "train_acc = [tensor.item() for tensor in history2[\"train_acc\"]]\n",
        "valid_acc = [tensor.item() for tensor in history2[\"valid_acc\"]]\n",
        "train_loss = [tensor.item() for tensor in history2[\"train_loss\"]]\n",
        "valid_loss = history2[\"valid_loss\"]\n"
      ],
      "metadata": {
        "id": "a4cQuwP3v-Tz"
      },
      "id": "a4cQuwP3v-Tz",
      "execution_count": 58,
      "outputs": []
    },
    {
      "cell_type": "code",
      "source": [
        "trend_plot_helper(\n",
        "    {\n",
        "        \"Accuracy - Epoch\": [\n",
        "            (\"Train Acc\", train_acc),\n",
        "            (\"Validation Acc\", valid_acc),\n",
        "        ],\n",
        "        \"Loss - Epoch\": [\n",
        "            (\"Train Loss\", train_loss),\n",
        "            (\"Validation Loss\", valid_loss)\n",
        "        ]\n",
        "    }\n",
        ")"
      ],
      "metadata": {
        "colab": {
          "base_uri": "https://localhost:8080/",
          "height": 468
        },
        "id": "ZgXq8b_rMWwo",
        "outputId": "510c8e9a-9329-4692-92e1-fa256cd2b2f5"
      },
      "id": "ZgXq8b_rMWwo",
      "execution_count": 60,
      "outputs": [
        {
          "output_type": "display_data",
          "data": {
            "text/plain": [
              "<Figure size 1000x500 with 2 Axes>"
            ],
            "image/png": "[encoded data removed]"
          },
          "metadata": {}
        }
      ]
    },
    {
      "cell_type": "markdown",
      "source": [
        "<font color='red'>4.</font>\n",
        "\n",
        "first the batch size is reduced to 8 beacuse of ram crash and also the structure of the cnn is modified based on the new sequence_length.\n",
        "The results are typically better than the time when the sequence length was 64. It is beacuse more text is passed to the model and model can understand the time relation better in comparison to the 64 max token size."
      ],
      "metadata": {
        "id": "O2rGKzRgI06m"
      },
      "id": "O2rGKzRgI06m"
    },
    {
      "cell_type": "code",
      "source": [
        "cnn_model_report = generate_confusion_matrix(\n",
        "    model=model2,\n",
        "    dataset=test_set,\n",
        ")"
      ],
      "metadata": {
        "colab": {
          "base_uri": "https://localhost:8080/",
          "height": 914
        },
        "id": "dJvahdog0m_K",
        "outputId": "0b35211f-001a-40fc-d3d9-9d65de8290b5"
      },
      "id": "dJvahdog0m_K",
      "execution_count": 61,
      "outputs": [
        {
          "output_type": "stream",
          "name": "stderr",
          "text": []
        },
        {
          "output_type": "display_data",
          "data": {
            "text/plain": [
              "<Figure size 1000x1000 with 1 Axes>"
            ],
            "image/png": "[encoded data removed]"
          },
          "metadata": {}
        }
      ]
    },
    {
      "cell_type": "code",
      "source": [
        "print(f\"Recall:    {cnn_model_report['recall']:.3f}\")\n",
        "print(f\"F1:        {cnn_model_report['f1']:.3f}\")\n",
        "print(f\"Precision: {cnn_model_report['precision']:.3f}\")\n",
        "print(cnn_model_report['report'])"
      ],
      "metadata": {
        "colab": {
          "base_uri": "https://localhost:8080/"
        },
        "id": "2FId_vtP0qUK",
        "outputId": "5530a226-a54e-4147-b6dd-0be1ace2c7b6"
      },
      "id": "2FId_vtP0qUK",
      "execution_count": 62,
      "outputs": [
        {
          "output_type": "stream",
          "name": "stdout",
          "text": [
            "Recall:    0.783\n",
            "F1:        0.787\n",
            "Precision: 0.871\n",
            "              precision    recall  f1-score   support\n",
            "\n",
            "           0       0.74      1.00      0.85      1011\n",
            "           1       1.00      0.57      0.72       807\n",
            "\n",
            "    accuracy                           0.81      1818\n",
            "   macro avg       0.87      0.78      0.79      1818\n",
            "weighted avg       0.86      0.81      0.79      1818\n",
            "\n"
          ]
        }
      ]
    },
    {
      "cell_type": "markdown",
      "source": [
        "it was computationally expensive and it took more time for training"
      ],
      "metadata": {
        "id": "xlXeAabLM6D9"
      },
      "id": "xlXeAabLM6D9"
    },
    {
      "cell_type": "markdown",
      "source": [
        "# Regulization techniques section 4 (with 64 as context window, 32 batch size and 0.00001 lr)"
      ],
      "metadata": {
        "id": "JldCoxpQ6Ork"
      },
      "id": "JldCoxpQ6Ork"
    },
    {
      "cell_type": "markdown",
      "source": [
        "dataset is the data with context window of 64, dataset2 is the data with context window of 196"
      ],
      "metadata": {
        "id": "hjsyaZbpWzXl"
      },
      "id": "hjsyaZbpWzXl"
    },
    {
      "cell_type": "code",
      "execution_count": null,
      "metadata": {
        "id": "ccUNdjbmWqAj"
      },
      "outputs": [],
      "source": [
        "import numpy as np\n",
        "from sklearn.model_selection import train_test_split\n",
        "\n",
        "# Assuming `dataset` is a list of (vector, intention) tuples\n",
        "# Example: dataset = [(np.array([0.1, 0.2, 0.3]), 'intention1'), (np.array([0.4, 0.5, 0.6]), 'intention2'), ...]\n",
        "\n",
        "# Extract features and labels\n",
        "vectors = [item[0] for item in dataset]\n",
        "intentions = [item[1] for item in dataset]\n",
        "\n",
        "# Convert lists to numpy arrays\n",
        "vectors = np.array(vectors)\n",
        "intentions = np.array(intentions)\n",
        "\n",
        "# Split the dataset into training and testing sets\n",
        "X_train, X_test, y_train, y_test = train_test_split(vectors, intentions, test_size=0.2, random_state=42)\n"
      ],
      "id": "ccUNdjbmWqAj"
    },
    {
      "cell_type": "code",
      "source": [
        "X_train_reshaped = X_train.transpose(0, 2, 1)  # Permute the dimensions\n",
        "X_test_reshaped = X_test.transpose(0, 2, 1)  # Permute the dimensions\n",
        "print(X_train_reshaped.shape)\n"
      ],
      "metadata": {
        "colab": {
          "base_uri": "https://localhost:8080/"
        },
        "outputId": "7ae50951-81c4-4b5e-9bdb-eb4af19df95f",
        "id": "6JIGkJYiWqAj"
      },
      "execution_count": null,
      "outputs": [
        {
          "output_type": "stream",
          "name": "stdout",
          "text": [
            "(7270, 300, 64)\n"
          ]
        }
      ],
      "id": "6JIGkJYiWqAj"
    },
    {
      "cell_type": "code",
      "execution_count": null,
      "metadata": {
        "id": "91kCmLtAWqAk"
      },
      "outputs": [],
      "source": [
        "import torch\n",
        "from torch import nn, optim\n",
        "from torch.utils.data import DataLoader, TensorDataset\n",
        "from sklearn.metrics import classification_report\n",
        "\n",
        "# Convert NumPy arrays to PyTorch tensors\n",
        "X_train_tensor = torch.tensor(X_train_reshaped, dtype=torch.float32)\n",
        "y_train_tensor = torch.tensor(y_train, dtype=torch.long)\n",
        "X_test_tensor = torch.tensor(X_test_reshaped, dtype=torch.float32)\n",
        "y_test_tensor = torch.tensor(y_test, dtype=torch.long)\n",
        "\n",
        "# Create PyTorch datasets\n",
        "train_set = TensorDataset(X_train_tensor, y_train_tensor)\n",
        "test_set = TensorDataset(X_test_tensor, y_test_tensor)\n",
        "\n",
        "\n"
      ],
      "id": "91kCmLtAWqAk"
    },
    {
      "cell_type": "code",
      "source": [
        "import torch.nn as nn\n",
        "import torch.nn.functional as F\n",
        "\n",
        "class CNN_Reg(nn.Module):\n",
        "    def __init__(self): # TODO: define your args here\n",
        "        super(CNN_Reg, self).__init__()\n",
        "        # print(\"hey\")\n",
        "        self.layers = nn.Sequential(*[\n",
        "        nn.Conv1d(in_channels=300, out_channels=64, kernel_size=3),\n",
        "        nn.Conv1d(in_channels=64, out_channels=64, kernel_size=5),\n",
        "        nn.Conv1d(in_channels=64, out_channels=64, kernel_size=7),\n",
        "        nn.Conv1d(in_channels=64, out_channels=128, kernel_size=3),\n",
        "        nn.Conv1d(in_channels=128, out_channels=128, kernel_size=5),\n",
        "        nn.Conv1d(in_channels=128, out_channels=128, kernel_size=7)\n",
        "        ])\n",
        "        self.flatten = nn.Flatten()\n",
        "        self.fc1 = nn.Linear(5120, 128)  # Output size after conv1d layer\n",
        "        self.fc_bn1 = nn.BatchNorm1d(128)  # Batch Norm after first dense layer\n",
        "        self.dropout = nn.Dropout(p=0.1)\n",
        "        self.fc2 = nn.Linear(128, 2)\n",
        "    def forward(self, x):\n",
        "\n",
        "        for layer in self.layers:\n",
        "          x = layer(x)\n",
        "\n",
        "        x = self.flatten(x)\n",
        "        x = F.relu(self.fc1(x))\n",
        "        x = self.fc_bn1(x)\n",
        "        x = self.dropout(x)\n",
        "        x = self.fc2(x)\n",
        "        x = F.softmax(x, dim=1)  # Softmax for classification\n",
        "        return x\n",
        "\n"
      ],
      "metadata": {
        "id": "1APvBvld9TMk"
      },
      "id": "1APvBvld9TMk",
      "execution_count": 45,
      "outputs": []
    },
    {
      "cell_type": "code",
      "source": [
        "model5 = CNN_Reg()\n",
        "# Define the loss function and optimizer\n",
        "loss_function = nn.CrossEntropyLoss()\n",
        "optimizer = optim.Adam(model5.parameters(), lr=0.00001)\n",
        "\n",
        "# Call the train_model function\n",
        "history5 = train_model(\n",
        "    model=model5,\n",
        "    batch_size=32,\n",
        "    loss_function=loss_function,\n",
        "    optimizer=optimizer,\n",
        "    epochs=5,\n",
        "    train_set=train_set,\n",
        "    valid_set=test_set,\n",
        "    device='auto'  # Automatically select 'cuda' if available, otherwise 'cpu'\n",
        ")\n"
      ],
      "metadata": {
        "colab": {
          "base_uri": "https://localhost:8080/"
        },
        "id": "A-R0Ya1PEdkD",
        "outputId": "f59d489a-ef9f-468c-b935-7fab6ebc74e0"
      },
      "id": "A-R0Ya1PEdkD",
      "execution_count": 46,
      "outputs": [
        {
          "output_type": "stream",
          "name": "stderr",
          "text": []
        },
        {
          "output_type": "stream",
          "name": "stdout",
          "text": [
            "Epoch 0: model train accuracy 83.48% Loss: 0.00\n"
          ]
        },
        {
          "output_type": "stream",
          "name": "stderr",
          "text": []
        },
        {
          "output_type": "stream",
          "name": "stdout",
          "text": [
            "model val accuracy 86.47%  Loss: 25.66\n",
            "Epoch 1: model train accuracy 85.49% Loss: 0.00\n"
          ]
        },
        {
          "output_type": "stream",
          "name": "stderr",
          "text": []
        },
        {
          "output_type": "stream",
          "name": "stdout",
          "text": [
            "model val accuracy 86.80%  Loss: 25.77\n",
            "Epoch 2: model train accuracy 86.20% Loss: 0.00\n"
          ]
        },
        {
          "output_type": "stream",
          "name": "stderr",
          "text": []
        },
        {
          "output_type": "stream",
          "name": "stdout",
          "text": [
            "model val accuracy 88.23%  Loss: 24.75\n",
            "Epoch 3: model train accuracy 87.26% Loss: 0.00\n"
          ]
        },
        {
          "output_type": "stream",
          "name": "stderr",
          "text": []
        },
        {
          "output_type": "stream",
          "name": "stdout",
          "text": [
            "model val accuracy 87.79%  Loss: 24.96\n",
            "Epoch 4: model train accuracy 87.50% Loss: 0.00\n"
          ]
        },
        {
          "output_type": "stream",
          "name": "stderr",
          "text": [
            "                                                                                    "
          ]
        },
        {
          "output_type": "stream",
          "name": "stdout",
          "text": [
            "model val accuracy 88.28%  Loss: 24.61\n"
          ]
        },
        {
          "output_type": "stream",
          "name": "stderr",
          "text": [
            "\r"
          ]
        }
      ]
    },
    {
      "cell_type": "markdown",
      "source": [
        "# Evaluation of regulized model"
      ],
      "metadata": {
        "id": "9wCCy_PTGWpG"
      },
      "id": "9wCCy_PTGWpG"
    },
    {
      "cell_type": "code",
      "source": [
        "# Print classification report for the test set\n",
        "test_loader = DataLoader(test_set, batch_size=32)\n",
        "test_loss, test_acc = model_eval(model5, test_loader, loss_function, 'auto')\n",
        "print(f\"Test Loss: {test_loss}, Test Accuracy: {test_acc}\")"
      ],
      "metadata": {
        "colab": {
          "base_uri": "https://localhost:8080/"
        },
        "id": "pbcanZkZFkZi",
        "outputId": "ecea01bb-5d9e-40ba-ef7d-ce5ccc26fe42"
      },
      "id": "pbcanZkZFkZi",
      "execution_count": 47,
      "outputs": [
        {
          "output_type": "stream",
          "name": "stderr",
          "text": [
            "                                                                                    "
          ]
        },
        {
          "output_type": "stream",
          "name": "stdout",
          "text": [
            "model val accuracy 88.28%  Loss: 24.61\n",
            "Test Loss: 24.605307906866074, Test Accuracy: 0.8828383088111877\n"
          ]
        },
        {
          "output_type": "stream",
          "name": "stderr",
          "text": [
            "\r"
          ]
        }
      ]
    },
    {
      "cell_type": "code",
      "source": [
        "print(history5[\"train_loss\"])\n",
        "train_loss = [tensor.item() for tensor in history5[\"train_loss\"]]\n",
        "print(train_loss)\n",
        "\n",
        "trend_plot_helper(\n",
        "    {\n",
        "        \"Accuracy - Epoch\": [\n",
        "            (\"Train Acc\", history5[\"train_acc\"]),\n",
        "            (\"Validation Acc\", history5[\"valid_acc\"]),\n",
        "        ],\n",
        "        \"Loss - Epoch\": [\n",
        "            (\"Train Loss\", train_loss),\n",
        "            (\"Validation Loss\", history5[\"valid_loss\"])\n",
        "        ]\n",
        "    }\n",
        ")"
      ],
      "metadata": {
        "colab": {
          "base_uri": "https://localhost:8080/",
          "height": 521
        },
        "id": "nWTBBuanF-Jt",
        "outputId": "9fd630c2-8891-4b82-e951-5b63ebf5b9e5"
      },
      "id": "nWTBBuanF-Jt",
      "execution_count": 48,
      "outputs": [
        {
          "output_type": "stream",
          "name": "stdout",
          "text": [
            "[tensor(0.0017, grad_fn=<DivBackward0>), tensor(0.0021, grad_fn=<DivBackward0>), tensor(0.0023, grad_fn=<DivBackward0>), tensor(0.0024, grad_fn=<DivBackward0>), tensor(0.0021, grad_fn=<DivBackward0>)]\n",
            "[0.0017019002698361874, 0.0020613258238881826, 0.002280849264934659, 0.0023605928290635347, 0.0021069017238914967]\n"
          ]
        },
        {
          "output_type": "display_data",
          "data": {
            "text/plain": [
              "<Figure size 1000x500 with 2 Axes>"
            ],
            "image/png": "[encoded data removed]"
          },
          "metadata": {}
        }
      ]
    },
    {
      "cell_type": "code",
      "source": [
        "cnn_model_report = generate_confusion_matrix(\n",
        "    model=model5,\n",
        "    dataset=test_set,\n",
        ")"
      ],
      "metadata": {
        "colab": {
          "base_uri": "https://localhost:8080/",
          "height": 914
        },
        "id": "g8JkbzWCGLMS",
        "outputId": "43273408-3899-4938-bc54-2dc1c57f1442"
      },
      "id": "g8JkbzWCGLMS",
      "execution_count": 49,
      "outputs": [
        {
          "output_type": "stream",
          "name": "stderr",
          "text": []
        },
        {
          "output_type": "display_data",
          "data": {
            "text/plain": [
              "<Figure size 1000x1000 with 1 Axes>"
            ],
            "image/png": "[encoded data removed]"
          },
          "metadata": {}
        }
      ]
    },
    {
      "cell_type": "code",
      "source": [
        "print(f\"Recall:    {cnn_model_report['recall']:.3f}\")\n",
        "print(f\"F1:        {cnn_model_report['f1']:.3f}\")\n",
        "print(f\"Precision: {cnn_model_report['precision']:.3f}\")\n",
        "print(cnn_model_report['report'])"
      ],
      "metadata": {
        "colab": {
          "base_uri": "https://localhost:8080/"
        },
        "id": "S9B96XvfGRfu",
        "outputId": "8413efec-e913-4008-9256-72e5a8eaf5f6"
      },
      "id": "S9B96XvfGRfu",
      "execution_count": 50,
      "outputs": [
        {
          "output_type": "stream",
          "name": "stdout",
          "text": [
            "Recall:    0.870\n",
            "F1:        0.877\n",
            "Precision: 0.904\n",
            "              precision    recall  f1-score   support\n",
            "\n",
            "           0       0.84      0.98      0.90      1011\n",
            "           1       0.97      0.76      0.85       807\n",
            "\n",
            "    accuracy                           0.88      1818\n",
            "   macro avg       0.90      0.87      0.88      1818\n",
            "weighted avg       0.90      0.88      0.88      1818\n",
            "\n"
          ]
        }
      ]
    },
    {
      "cell_type": "markdown",
      "source": [
        "Regulized model performs a bit better (1 percent difference) from the model with no BN and dropout layers"
      ],
      "metadata": {
        "id": "EBJ9mu4fGgza"
      },
      "id": "EBJ9mu4fGgza"
    }
  ],
  "metadata": {
    "accelerator": "GPU",
    "colab": {
      "gpuType": "T4",
      "provenance": []
    },
    "kernelspec": {
      "display_name": "Python 3",
      "name": "python3"
    },
    "language_info": {
      "codemirror_mode": {
        "name": "ipython",
        "version": 2
      },
      "file_extension": ".py",
      "mimetype": "text/x-python",
      "name": "python",
      "nbconvert_exporter": "python",
      "pygments_lexer": "ipython2",
      "version": "2.7.6"
    }
  },
  "nbformat": 4,
  "nbformat_minor": 5
}