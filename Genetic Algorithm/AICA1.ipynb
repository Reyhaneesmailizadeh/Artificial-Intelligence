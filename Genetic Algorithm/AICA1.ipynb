{
  "nbformat": 4,
  "nbformat_minor": 0,
  "metadata": {
    "colab": {
      "provenance": []
    },
    "kernelspec": {
      "name": "python3",
      "display_name": "Python 3"
    },
    "language_info": {
      "name": "python"
    }
  },
  "cells": [
    {
      "cell_type": "code",
      "source": [
        "from google.colab import drive\n",
        "drive.mount('/content/drive')"
      ],
      "metadata": {
        "colab": {
          "base_uri": "https://localhost:8080/"
        },
        "id": "q56hE4AdSxYx",
        "outputId": "08d9ef64-6027-4431-e330-107e04a0437a"
      },
      "execution_count": 2,
      "outputs": [
        {
          "output_type": "stream",
          "name": "stdout",
          "text": [
            "Mounted at /content/drive\n"
          ]
        }
      ]
    },
    {
      "cell_type": "code",
      "source": [
        "import pandas as pd\n",
        "import random\n",
        "import random\n",
        "import numpy as np\n",
        "df = pd.read_csv('/content/drive/MyDrive/snacks.csv')"
      ],
      "metadata": {
        "id": "iMQv6G31S72T"
      },
      "execution_count": 3,
      "outputs": []
    },
    {
      "cell_type": "code",
      "execution_count": 4,
      "metadata": {
        "id": "PEyBgCiWQIt0"
      },
      "outputs": [],
      "source": [
        "def is_in_range(chromosome,min_snacks,max_snacks):\n",
        "    num_snacks = 0\n",
        "    for index,weight in chromosome:\n",
        "      if(weight != 0):\n",
        "        num_snacks += 1\n",
        "\n",
        "    if (num_snacks >= min_snacks and num_snacks <= max_snacks):\n",
        "      return True\n",
        "    else:\n",
        "      return False\n",
        "\n",
        "def sum_weights(chromosome):\n",
        "    total_weight = 0\n",
        "    for gene in chromosome:\n",
        "        index, weight = gene\n",
        "        total_weight += weight\n",
        "    return total_weight\n",
        "\n",
        "def set_weights_to_zero(chromosome, min_threshold, max_threshold, min_snacks, max_snacks):\n",
        "\n",
        "    listof_modified_chromosomes = []\n",
        "    step = (max_threshold - min_threshold) / 100\n",
        "    for threshold in np.arange(min_threshold, max_threshold, step):\n",
        "      modified_chromosome = []\n",
        "      for index, weight in chromosome:\n",
        "          modified_weight = 0.0 if weight < threshold else weight\n",
        "          modified_chromosome.append((index, modified_weight))\n",
        "      listof_modified_chromosomes.append(modified_chromosome)\n",
        "    in_range_chromosomes = []\n",
        "    for chromos in listof_modified_chromosomes:\n",
        "      if(is_in_range(chromos, min_snacks, max_snacks) == True):\n",
        "        in_range_chromosomes.append(chromos)\n",
        "    list_of_weights = []\n",
        "\n",
        "    for in_range_chromos in in_range_chromosomes:\n",
        "      list_of_weights.append(sum_weights(in_range_chromos))\n",
        "    best_index = list_of_weights.index(min(list_of_weights))\n",
        "    best_chromosome = in_range_chromosomes[best_index]\n",
        "    return best_chromosome\n",
        "\n"
      ]
    },
    {
      "cell_type": "code",
      "source": [
        "def apply_mutation(offspring, pm, min_weight_mutation, max_weight_mutation):\n",
        "    mutated_offspring = []\n",
        "    for parent in offspring:\n",
        "        mutated_parent = []\n",
        "        for gene in parent:\n",
        "            index, weight = gene\n",
        "\n",
        "            # Apply mutation to the weight with probability pm\n",
        "            if random.random() < pm:\n",
        "                mutation_direction = random.choice([-1, 1])\n",
        "                # Generate a random mutation for the weight\n",
        "                weight_mutation = random.uniform(min_weight_mutation, max_weight_mutation)\n",
        "                mutated_weight = weight + mutation_direction * weight_mutation  # Mutate the weight\n",
        "            else:\n",
        "                mutated_weight = weight  # Keep the weight unchanged\n",
        "\n",
        "            # Append the mutated gene to the mutated parent\n",
        "            mutated_parent.append((index, mutated_weight))\n",
        "        mutated_offspring.append(tuple(mutated_parent))  # Convert list to tuple\n",
        "    return mutated_offspring"
      ],
      "metadata": {
        "id": "1qIo2yECi4Nh"
      },
      "execution_count": 5,
      "outputs": []
    },
    {
      "cell_type": "code",
      "source": [
        "def three_point_crossover(parent1, parent2):\n",
        "    # Choose three random crossover points\n",
        "    crossover_points = sorted(random.sample(range(1, len(parent1) - 1), 3))\n",
        "\n",
        "    # Perform crossover\n",
        "    child1 = parent1[:crossover_points[0]] + parent2[crossover_points[0]:crossover_points[1]] + parent1[crossover_points[1]:crossover_points[2]] + parent2[crossover_points[2]:]\n",
        "    child2 = parent2[:crossover_points[0]] + parent1[crossover_points[0]:crossover_points[1]] + parent2[crossover_points[1]:crossover_points[2]] + parent1[crossover_points[2]:]\n",
        "\n",
        "    return child1, child2\n",
        "\n",
        "def apply_crossover_with_probability(mating_pool, pc):\n",
        "    offspring = []\n",
        "    for i in range(0, len(mating_pool), 2):\n",
        "        if i + 1 < len(mating_pool):\n",
        "            parent1 = mating_pool[i]\n",
        "            parent2 = mating_pool[i + 1]\n",
        "\n",
        "            # Check if crossover should be applied based on probability pc\n",
        "            if random.random() < pc:\n",
        "                child1, child2 = three_point_crossover(parent1, parent2)\n",
        "            else:\n",
        "                child1 = parent1[:]\n",
        "                child2 = parent2[:]\n",
        "\n",
        "            offspring.extend([child1, child2])\n",
        "        else:\n",
        "            # If there's an odd number of parents, just copy the last parent\n",
        "            offspring.append(mating_pool[-1][:])\n",
        "    return offspring"
      ],
      "metadata": {
        "id": "GBgj2eoDi4kX"
      },
      "execution_count": 6,
      "outputs": []
    },
    {
      "cell_type": "code",
      "source": [
        "def calculate_fitness(genome, df, min_num_snacks, max_num_snacks, min_value, max_weight):\n",
        "    fitness = 0\n",
        "    total_value = 0\n",
        "    total_weight = 0\n",
        "    total_Available_weight = 0\n",
        "    total_Available_value = 0\n",
        "    num_snacks = 0\n",
        "    for index, weight in genome:\n",
        "        if (weight != 0):\n",
        "            num_snacks += 1\n",
        "            total_Available_value += df.loc[index, 'Value']\n",
        "            value = df.loc[index, 'Value']\n",
        "            total_value += value * weight / df.loc[index, 'Available Weight']\n",
        "            total_weight += weight\n",
        "            total_Available_weight += df.loc[index, 'Available Weight']\n",
        "\n",
        "    fitness =  20000 * total_value\n",
        "    #print(total_weight)\n",
        "    #print(max_weight)\n",
        "    #print(total_Available_weight)\n",
        "    #print(total_value)\n",
        "    #constraints\n",
        "    penalty = 0\n",
        "    if total_weight > max_weight:\n",
        "        penalty -=  900000 * (total_weight - max_weight)\n",
        "        fitness = 0\n",
        "    # if total_weight > total_Available_weight:\n",
        "    #     fitness = fitness - 20/100 * total_Available_value\n",
        "    if total_value < min_value:\n",
        "        penalty -= 300000 * (min_value - total_value)\n",
        "        fitness = 0\n",
        "    if num_snacks < min_num_snacks:\n",
        "        penalty -= 300000 * (min_num_snacks - num_snacks)\n",
        "        fitness = 0\n",
        "    if num_snacks > max_num_snacks:\n",
        "        penalty -= 300000 * (num_snacks - max_num_snacks)\n",
        "        fitness = 0\n",
        "    for index, weight in genome:\n",
        "            snack_Available_weight = df.loc[index, 'Available Weight']\n",
        "            if weight > snack_Available_weight:\n",
        "                penalty -= 100000 * (weight - snack_Available_weight)\n",
        "                fitness = 0\n",
        "            elif weight < 0:\n",
        "                fitness = 0\n",
        "                penalty -= 3000000 * (0 - weight)\n",
        "\n",
        "    final_value = fitness + penalty\n",
        "    return final_value"
      ],
      "metadata": {
        "id": "qmbPQUHli4vX"
      },
      "execution_count": 7,
      "outputs": []
    },
    {
      "cell_type": "code",
      "source": [
        "def generate_population(df, population_size, min_snacks, max_snacks):\n",
        "    # Read the CSV file\n",
        "\n",
        "\n",
        "    # Generate population\n",
        "    population = []\n",
        "    for _ in range(population_size):\n",
        "        num_snacks = random.randint(min_snacks, max_snacks)  # Randomly choose the number of snacks\n",
        "        genome = []\n",
        "        selected_indexes = set()  # Keep track of selected indexes\n",
        "        while len(genome) < num_snacks:\n",
        "            snack_index = random.randint(0, len(df) - 1)  # Randomly select a snack from the list\n",
        "            if snack_index not in selected_indexes:  # Check if the index is not already selected\n",
        "                selected_indexes.add(snack_index)  # Add the index to the set of selected indexes\n",
        "                max_snack_weight = df.loc[snack_index, 'Available Weight']  # Get the maximum weight allowed for the selected snack\n",
        "                snack_weight = random.uniform(0, max_snack_weight)  # Generate a random weight for the snack\n",
        "                genome.append((snack_index, snack_weight))  # Store the index and weight of the chosen snack\n",
        "\n",
        "        # Initialize a new chromosome with weights set to zero\n",
        "        new_chromosome = [(i, 0) for i in range(19)]\n",
        "\n",
        "        # Update weights in the new chromosome based on the generated genome\n",
        "        for index, weight in genome:\n",
        "            new_chromosome[index] = (index, weight)\n",
        "\n",
        "        population.append(new_chromosome)\n",
        "\n",
        "    return population"
      ],
      "metadata": {
        "id": "FwBueSBBi43w"
      },
      "execution_count": 8,
      "outputs": []
    },
    {
      "cell_type": "code",
      "source": [
        "def calculate_population_fitness(population, df, min_snacks, max_snacks, min_value, max_weight):\n",
        "    fitness_scores = []\n",
        "    for genome in population:\n",
        "        fitness = calculate_fitness(genome, df, min_snacks, max_snacks, min_value, max_weight)\n",
        "        fitness_scores.append(fitness)\n",
        "    return fitness_scores"
      ],
      "metadata": {
        "id": "kRpBj1_Ji4_M"
      },
      "execution_count": 9,
      "outputs": []
    },
    {
      "cell_type": "code",
      "source": [
        "def roulette_wheel_selection(population, fitness_scores, num_parents):\n",
        "    total_fitness = sum(fitness_scores)\n",
        "    selection_probabilities = [fitness / total_fitness for fitness in fitness_scores]\n",
        "\n",
        "    cumulative_probabilities = [0]\n",
        "    for prob in selection_probabilities:\n",
        "        cumulative_probabilities.append(cumulative_probabilities[-1] + prob)\n",
        "\n",
        "    selected_parents = []\n",
        "    for _ in range(num_parents):\n",
        "        random_value = random.random()\n",
        "        for i in range(len(cumulative_probabilities) - 1):\n",
        "            if cumulative_probabilities[i] <= random_value <= cumulative_probabilities[i+1]:\n",
        "                selected_parents.append(population[i])\n",
        "                break\n",
        "\n",
        "    return selected_parents"
      ],
      "metadata": {
        "id": "lIhz2tQLi5Gf"
      },
      "execution_count": 10,
      "outputs": []
    },
    {
      "cell_type": "code",
      "source": [
        "def k_tournament_selection(population, fitness_scores, k):\n",
        "    selected_parents = []\n",
        "    for _ in range(len(population)):\n",
        "        # Randomly select k individuals from the population\n",
        "        tournament_pool = random.sample(range(len(population)), k)\n",
        "\n",
        "        # Find the index of the individual with the highest fitness score in the tournament pool\n",
        "        winner_index = max(tournament_pool, key=lambda x: fitness_scores[x])\n",
        "\n",
        "        # Add the corresponding chromosome to the selected parents\n",
        "        selected_parents.append(population[winner_index])\n",
        "\n",
        "    return selected_parents"
      ],
      "metadata": {
        "id": "OVd55akcjwOP"
      },
      "execution_count": 11,
      "outputs": []
    },
    {
      "cell_type": "code",
      "source": [
        "# Example usage:\n",
        "max_generations = 200\n",
        "initial_parents = 1000\n",
        "Pc = 0.2\n",
        "Pm = 0.2\n",
        "min_mutation = 0\n",
        "max_mutation = 0.5\n",
        "# Example usage:\n",
        "  # Replace 'snacks.csv' with the path to your CSV file\n",
        "population_size = 1000\n",
        "k = 800\n",
        "min_value = float(input(\"Enter the minimum value of snacks a person can carry: \"))\n",
        "max_weight = float(input(\"Enter the maximum weight of snacks a person can carry: \"))\n",
        "min_snacks = int(input(\"Enter the minimum number of snacks a person can carry: \"))\n",
        "max_snacks = int(input(\"Enter the maximum number of snacks a person can carry: \"))\n",
        "#set initial random population\n",
        "population = generate_population(df, population_size, min_snacks, max_snacks)\n",
        "#print(population)\n",
        "mean_fitness_scores = []\n",
        "for i in range(max_generations):\n",
        "\n",
        "\n",
        "    # if i == 20 or i == 40 or i == 80 or i == 100:\n",
        "    #     print(\"Generation:\", i)\n",
        "    #     max_fitness_index = fitness_scores.index(max(fitness_scores))\n",
        "    #     print(population[max_fitness_index])\n",
        "    #     print(fitness_scores)\n",
        "    if i == 50 or i == 100 or i == 150 or i == 199:\n",
        "        print(\"Generation:\", i)\n",
        "        max_fitness_index = fitness_scores.index(max(fitness_scores))\n",
        "        print(population[max_fitness_index])\n",
        "        print(fitness_scores)\n",
        "\n",
        "    #print(\"Generation:\", i)\n",
        "    offspring = []\n",
        "    fitness_scores = calculate_population_fitness(population, df, min_snacks, max_snacks, min_value, max_weight)\n",
        "    #print(fitness_scores)\n",
        "    #mating_pool = roulette_wheel_selection(population, fitness_scores, initial_parents)\n",
        "    #mating_pool = top_one_hundred(population, fitness_scores)\n",
        "    mating_pool = k_tournament_selection(population, fitness_scores, k)\n",
        "    random.shuffle(mating_pool)\n",
        "    offspring = apply_crossover_with_probability(mating_pool, Pc)\n",
        "    mutated_offspring = apply_mutation(offspring, Pm, min_mutation, max_mutation)\n",
        "    population = mutated_offspring\n",
        "    mean_fitness_scores.append(np.mean(fitness_scores))\n",
        ""
      ],
      "metadata": {
        "colab": {
          "base_uri": "https://localhost:8080/"
        },
        "id": "6RKYRbiEQQBk",
        "outputId": "3489c41d-334c-41e5-d220-0cd9cb4a6e89"
      },
      "execution_count": null,
      "outputs": [
        {
          "name": "stdout",
          "output_type": "stream",
          "text": [
            "Enter the minimum value of snacks a person can carry: 7\n",
            "Enter the maximum weight of snacks a person can carry: 6\n",
            "Enter the minimum number of snacks a person can carry: 2\n",
            "Enter the maximum number of snacks a person can carry: 4\n"
          ]
        }
      ]
    },
    {
      "cell_type": "code",
      "source": [
        "\n",
        "min_threshold = 0.01\n",
        "max_threshold = 0.2\n",
        "\n",
        "max_fitness_index = fitness_scores.index(max(fitness_scores))\n",
        "print(\"sum of weights in best answer : \", int(sum_weights(population[max_fitness_index])))\n",
        "best_answer = population[max_fitness_index]\n",
        "print(\"best answer : \",best_answer)\n",
        "total_value1 = 0\n",
        "num_items1 = 0\n",
        "for index, weight in best_answer:\n",
        "        if (weight != 0):\n",
        "            num_items1 += 1\n",
        "            value = df.loc[index, 'Value']\n",
        "            total_value1 += value * weight / df.loc[index, 'Available Weight']\n",
        "print(\"sum of values in best answer : \", int(total_value1))\n",
        "print(\"number of snacks : \", num_items1)\n",
        "\n",
        "tuned_best_answer = set_weights_to_zero(population[max_fitness_index], min_threshold, max_threshold, min_snacks, max_snacks)\n",
        "print(\"tuned best answer : \",tuned_best_answer)\n",
        "total_value2 = 0\n",
        "num_items2 = 0\n",
        "\n",
        "for index, weight in tuned_best_answer:\n",
        "        if (weight != 0):\n",
        "\n",
        "            num_items2 += 1\n",
        "            value = df.loc[index, 'Value']\n",
        "            total_value2 += value * weight / df.loc[index, 'Available Weight']\n",
        "print(\"sum of weights in best answer : \", int(sum_weights(tuned_best_answer)))\n",
        "print(\"sum of values in best answer : \", int(total_value2))\n",
        "print(\"number of snacks tuned : \", num_items2)"
      ],
      "metadata": {
        "colab": {
          "base_uri": "https://localhost:8080/"
        },
        "id": "EgDU70U6hWvn",
        "outputId": "6ef6565b-c8a5-49f5-e181-cb8543158f5d"
      },
      "execution_count": 25,
      "outputs": [
        {
          "output_type": "stream",
          "name": "stdout",
          "text": [
            "sum of weights in best answer :  4\n",
            "best answer :  ((0, 0), (1, 0), (2, 0.0593305250821653), (3, -0.06608205545660861), (4, 0), (5, 0.03521572706950127), (6, 0.0006283484879443524), (7, 0), (8, 0), (9, 0.3254668805917311), (10, 0.09329587463013445), (11, 0.03751937477480022), (12, 0.39614190491765444), (13, 0.3955432633719855), (14, 0), (15, 3.4475987272257704), (16, 0), (17, -0.08245782804554908), (18, 0))\n",
            "sum of values in best answer :  5\n",
            "number of snacks :  11\n",
            "tuned best answer :  [(0, 0.0), (1, 0.0), (2, 0.0), (3, 0.0), (4, 0.0), (5, 0.0), (6, 0.0), (7, 0.0), (8, 0.0), (9, 0.3254668805917311), (10, 0.09329587463013445), (11, 0.0), (12, 0.39614190491765444), (13, 0.3955432633719855), (14, 0.0), (15, 3.4475987272257704), (16, 0.0), (17, 0.0), (18, 0.0)]\n",
            "sum of weights in best answer :  4\n",
            "sum of values in best answer :  5\n",
            "number of snacks tuned :  5\n"
          ]
        }
      ]
    },
    {
      "cell_type": "code",
      "source": [
        "import matplotlib.pyplot as plt\n",
        "# Plot mean fitness scores over generations\n",
        "plt.plot(range(1, max_generations + 1), mean_fitness_scores)\n",
        "plt.xlabel('Generation')\n",
        "plt.ylabel('Mean Fitness Score')\n",
        "plt.title('Mean Fitness Score Over Generations')\n",
        "plt.grid(True)\n",
        "plt.show()"
      ],
      "metadata": {
        "colab": {
          "base_uri": "https://localhost:8080/",
          "height": 472
        },
        "id": "XjiqXL8K7NTu",
        "outputId": "937d8a17-9fb0-4c73-fc7a-06323956d14d"
      },
      "execution_count": 14,
      "outputs": [
        {
          "output_type": "display_data",
          "data": {
            "text/plain": [
              "<Figure size 640x480 with 1 Axes>"
            ],
            "image/png": "[encoded data removed]"
          },
          "metadata": {}
        }
      ]
    },
    {
      "cell_type": "code",
      "source": [
        "# Show genes with non-zero weights\n",
        "list_of_snacks = []\n",
        "for gene_index, weight in tuned_best_answer:\n",
        "    if weight != 0:\n",
        "        snack_name = df.iloc[gene_index]['Snack']\n",
        "        list_of_snacks.append((snack_name,weight))\n",
        "        print(f\"Snack: {snack_name}, Weight: {weight}\")"
      ],
      "metadata": {
        "colab": {
          "base_uri": "https://localhost:8080/"
        },
        "id": "nFzQyVQiMjKA",
        "outputId": "c08f737c-cd22-4a84-fc4d-bcc8487e98c5"
      },
      "execution_count": 26,
      "outputs": [
        {
          "output_type": "stream",
          "name": "stdout",
          "text": [
            "Snack: Cookies, Weight: 0.3254668805917311\n",
            "Snack: Abnabat, Weight: 0.09329587463013445\n",
            "Snack: Popcorn, Weight: 0.39614190491765444\n",
            "Snack: Pastil, Weight: 0.3955432633719855\n",
            "Snack: Masghati, Weight: 3.4475987272257704\n"
          ]
        }
      ]
    },
    {
      "cell_type": "code",
      "source": [
        "\n",
        "# Construct the HTML table dynamically\n",
        "html_table = \"<table border='1'><tr><th>Snack</th><th>Weight</th></tr>\"\n",
        "for snack, weight in list_of_snacks:\n",
        "    html_table += f\"<tr><td>{snack}</td><td>{weight}</td></tr>\"\n",
        "html_table += \"</table>\"\n",
        "\n",
        "# Write HTML content to file\n",
        "with open('/content/drive/MyDrive/output.html', 'w') as file:\n",
        "    file.write(html_table)"
      ],
      "metadata": {
        "id": "CjzvYki4S8vA"
      },
      "execution_count": 27,
      "outputs": []
    }
  ]
}